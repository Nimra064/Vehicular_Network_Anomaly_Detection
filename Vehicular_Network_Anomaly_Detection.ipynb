{
  "cells": [
    {
      "cell_type": "markdown",
      "metadata": {
        "id": "Zm5Wf_H1psAt"
      },
      "source": [
        "# Mount Drive with Colab"
      ]
    },
    {
      "cell_type": "code",
      "execution_count": null,
      "metadata": {
        "id": "AkeImkfYpyJ3"
      },
      "outputs": [],
      "source": [
        "from google.colab import drive\n",
        "drive.mount('/content/mydrive')"
      ]
    },
    {
      "cell_type": "markdown",
      "metadata": {
        "id": "upyR26U5ogpw"
      },
      "source": [
        "# Import Libraries"
      ]
    },
    {
      "cell_type": "code",
      "execution_count": null,
      "metadata": {
        "id": "ADC8c9vdoQBu"
      },
      "outputs": [],
      "source": [
        "import numpy as np\n",
        "import pandas as pd\n",
        "import zipfile\n",
        "import os\n",
        "from sklearn.model_selection import train_test_split\n",
        "from sklearn.metrics import precision_score\n",
        "from sklearn.metrics import recall_score\n",
        "from sklearn.metrics import f1_score\n",
        "# Random Forest Classifier\n",
        "from sklearn.ensemble import RandomForestClassifier\n",
        "from sklearn import tree\n",
        "from sklearn.metrics import accuracy_score\n",
        "from keras.models import Sequential\n",
        "from keras.layers import Dense, LSTM, Dropout, GRU, Bidirectional\n",
        "from keras.optimizers import SGD\n",
        "import time\n",
        "import seaborn as sns\n",
        "import matplotlib.pyplot as plt\n",
        "from sklearn.neighbors import KNeighborsClassifier\n",
        "from sklearn import preprocessing\n",
        "from sklearn.preprocessing import LabelEncoder\n",
        "from keras.utils import to_categorical"
      ]
    },
    {
      "cell_type": "markdown",
      "metadata": {
        "id": "aP_p4IqepPB8"
      },
      "source": [
        "# Unzip the Directory"
      ]
    },
    {
      "cell_type": "code",
      "execution_count": null,
      "metadata": {
        "id": "tGT2k_uYpNVO"
      },
      "outputs": [],
      "source": [
        "def unzip_dir(parent_dir):\n",
        "  # Loop through each folder in the parent directory\n",
        "  for foldername in os.listdir(parent_dir):\n",
        "    folderpath = os.path.join(parent_dir)\n",
        "\n",
        "    # Check if the folder is a directory\n",
        "    if os.path.isdir(folderpath):\n",
        "      # Loop through each file in the folder\n",
        "      for filename in os.listdir(parent_dir):\n",
        "        filepath = os.path.join(parent_dir, filename)\n",
        "\n",
        "      # Check if the file is a zip file\n",
        "      if filename.endswith(\".zip\"):\n",
        "\n",
        "        # Create a ZipFile object for the file\n",
        "        with zipfile.ZipFile(filepath, \"r\") as zip_ref:\n",
        "          # Extract all the files to the parent_dir\n",
        "          zip_files=zip_ref.extractall(parent_dir)\n",
        "          print(zip_files)\n",
        "    else:\n",
        "      print(\"No Dir\")\n",
        ""
      ]
    },
    {
      "cell_type": "code",
      "execution_count": null,
      "metadata": {
        "id": "4HSwVjmDpgMK"
      },
      "outputs": [],
      "source": [
        "parent_dir = \"/content/mydrive/MyDrive/NS-vehicle-anomaly-dataset-mega/ConstSpeed_0709/\""
      ]
    },
    {
      "cell_type": "code",
      "execution_count": null,
      "metadata": {
        "id": "GT9DveOqsuk1"
      },
      "outputs": [],
      "source": [
        "# extract_zip_file=unzip_dir(parent_dir)\n",
        "# print(extract_zip_file)"
      ]
    },
    {
      "cell_type": "markdown",
      "metadata": {
        "id": "bvH6o5TxtKYN"
      },
      "source": [
        "# Convert Dataset Json to CSV Format"
      ]
    },
    {
      "cell_type": "code",
      "execution_count": null,
      "metadata": {
        "id": "1naagF9OtXcf"
      },
      "outputs": [],
      "source": [
        "def read_json(json_directory):\n",
        "\n",
        "    # Get a list of all the JSON files in the directory\n",
        "    json_files = [f for f in os.listdir(json_directory) if f.endswith(\".json\")]\n",
        "\n",
        "    # Initialize an empty list to store the dataframes\n",
        "    dataframes = []\n",
        "\n",
        "    # Loop through each JSON file and read it into a Pandas dataframe\n",
        "    for json_file in json_files:\n",
        "        # Construct the full path to the JSON file\n",
        "        json_file_path = os.path.join(json_directory, json_file)\n",
        "\n",
        "        # Read the JSON file into a dataframe\n",
        "        dataframe = pd.read_json(json_file_path, lines=True)\n",
        "\n",
        "        # Append the dataframe to the list of dataframes\n",
        "        dataframes.append(dataframe)\n",
        "\n",
        "    # Concatenate all the dataframes into a single dataframe\n",
        "    merged_dataframe = pd.concat(dataframes, ignore_index=True)\n",
        "    # Save the combine dataframe\n",
        "    merged_dataframe.to_csv('/content/ConstSpeed_0709.csv')\n",
        "    return merged_dataframe"
      ]
    },
    {
      "cell_type": "code",
      "execution_count": null,
      "metadata": {
        "id": "9J091dtytjAr"
      },
      "outputs": [],
      "source": [
        "json_directory='/content/mydrive/MyDrive/NS-vehicle-anomaly-dataset-mega/ConstSpeed_0709/VeReMi_28800_32400_2022-9-11_20:46:34'\n",
        "meraged_dataframe=read_json(json_directory)\n",
        "print(meraged_dataframe)"
      ]
    },
    {
      "cell_type": "markdown",
      "metadata": {
        "id": "0mY_2e6py7kK"
      },
      "source": [
        "# Preprocessing"
      ]
    },
    {
      "cell_type": "markdown",
      "metadata": {
        "id": "P3b8anGQu9-N"
      },
      "source": [
        "### Combine ALL CSV Files Formate(14-Attackers)"
      ]
    },
    {
      "cell_type": "code",
      "execution_count": null,
      "metadata": {
        "id": "9k2m7oJfvLRS"
      },
      "outputs": [],
      "source": [
        "# set the directory where the CSV files are stored\n",
        "directory = '/content/mydrive/MyDrive/CSV-files-14-Attacks/'\n",
        "\n",
        "# create an empty list to store the dataframes\n",
        "df_list = []\n",
        "\n",
        "# loop through each file in the directory\n",
        "for filename in os.listdir(directory):\n",
        "    if filename.endswith('.csv'):\n",
        "        # read the first 10000 rows from the CSV file into a dataframe\n",
        "        df = pd.read_csv(os.path.join(directory, filename), nrows=10000)\n",
        "        # append the dataframe to the list\n",
        "        df_list.append(df)\n",
        "\n",
        "# concatenate all the dataframes into a single dataframe\n",
        "combined_df = pd.concat(df_list)\n",
        " # position column\n",
        "combined_df['pos_0'] = combined_df['pos'].str.strip('[]').str.split(', ').str[0].astype(float)\n",
        "combined_df['pos_1'] = combined_df['pos'].str.strip('[]').str.split(', ').str[1].astype(float)\n",
        "combined_df['pos_2'] = combined_df['pos'].str.strip('[]').str.split(', ').str[2].astype(float)\n",
        "combined_df.drop(columns=['pos'], inplace=True)\n",
        "\n",
        "\n",
        "# speed column\n",
        "combined_df['spd_0'] = combined_df['spd'].str.strip('[]').str.split(', ').str[0].astype(float)\n",
        "combined_df['spd_1'] = combined_df['spd'].str.strip('[]').str.split(', ').str[1].astype(float)\n",
        "combined_df['spd_2'] = combined_df['spd'].str.strip('[]').str.split(', ').str[2].astype(float)\n",
        "combined_df.drop(columns=['spd'], inplace=True)\n",
        "\n",
        "# print the first few rows of the combined dataframe\n",
        "print(combined_df.head())"
      ]
    },
    {
      "cell_type": "code",
      "execution_count": null,
      "metadata": {
        "id": "Yiz0fRCdy0Gv"
      },
      "outputs": [],
      "source": [
        "combined_df.head()"
      ]
    },
    {
      "cell_type": "code",
      "execution_count": null,
      "metadata": {
        "id": "Q7_V2MA2zLKW"
      },
      "outputs": [],
      "source": [
        "split the dataframe into pos , type , spd and attacks\n",
        "combined_df=combined_df[['type', 'pos_0', 'pos_1', 'spd_0', 'spd_1', 'Attacks']]"
      ]
    },
    {
      "cell_type": "code",
      "execution_count": null,
      "metadata": {
        "id": "un2iRFDE0Eiw"
      },
      "outputs": [],
      "source": [
        "combine csv file\n",
        "combined_df.to_csv('/content/train_dataset.csv')"
      ]
    },
    {
      "cell_type": "markdown",
      "metadata": {
        "id": "fgH9vgNi0Qzw"
      },
      "source": [
        "# Load Dataset"
      ]
    },
    {
      "cell_type": "code",
      "execution_count": null,
      "metadata": {
        "id": "aevF2Ij_0TyO"
      },
      "outputs": [],
      "source": [
        "load dataset\n",
        "df=pd.read_csv('/content/final_combine_train.csv')"
      ]
    },
    {
      "cell_type": "code",
      "execution_count": null,
      "metadata": {
        "id": "_12ahq9K1Guh"
      },
      "outputs": [],
      "source": [
        "print(df)"
      ]
    },
    {
      "cell_type": "code",
      "execution_count": null,
      "metadata": {
        "id": "ml3yL9mi1OX6"
      },
      "outputs": [],
      "source": [
        "# shape\n",
        "df.shape"
      ]
    },
    {
      "cell_type": "code",
      "execution_count": null,
      "metadata": {
        "id": "hyTId0ptWabO"
      },
      "outputs": [],
      "source": [
        "df=df.drop(columns=['Unnamed: 0'] , axis=1)"
      ]
    },
    {
      "cell_type": "markdown",
      "metadata": {
        "id": "o5IDpNzo1q9U"
      },
      "source": [
        "# Dataset Preprocessing"
      ]
    },
    {
      "cell_type": "code",
      "execution_count": null,
      "metadata": {
        "id": "p6iIE-ql1qmQ"
      },
      "outputs": [],
      "source": [
        "# identify the null values\n",
        "df.isnull().sum()"
      ]
    },
    {
      "cell_type": "markdown",
      "metadata": {
        "id": "SSoEwIpAYgBG"
      },
      "source": [
        "# Step 1- To Find the Type of Attacks(0-1)"
      ]
    },
    {
      "cell_type": "markdown",
      "metadata": {
        "id": "haI-lY9hZJU5"
      },
      "source": [
        "# Load Training Dataset"
      ]
    },
    {
      "cell_type": "code",
      "execution_count": null,
      "metadata": {
        "colab": {
          "base_uri": "https://localhost:8080/"
        },
        "id": "SNSyr4fBZO7K",
        "outputId": "f74ebfe2-2111-415a-93cf-179c9f6ee061"
      },
      "outputs": [
        {
          "output_type": "stream",
          "name": "stdout",
          "text": [
            "   type       pos_0        pos_1     spd_0      spd_1   Attacks\n",
            "0     0  143.932447  1022.904829  0.000000   0.000000  ConstPos\n",
            "1     0  354.420706   641.637176 -2.108532  16.227503  ConstPos\n",
            "2     0  153.586183   900.726664  0.000149   0.000149  ConstPos\n",
            "3     0  928.797437  1091.099487  0.000020   0.000020  ConstPos\n",
            "4     0  155.782562   771.833062 -1.968970  13.744119  ConstPos\n"
          ]
        }
      ],
      "source": [
        "combined_df_type=pd.read_csv('/content/train_dataset.csv')\n",
        "# combined_df_type=combined_df_type.drop(columns=['Unnamed: 0'] , axis=1)\n",
        "print(combined_df_type.head(5))"
      ]
    },
    {
      "cell_type": "markdown",
      "metadata": {
        "id": "jE6q9eM6B_N7"
      },
      "source": [
        "# Scaling"
      ]
    },
    {
      "cell_type": "code",
      "execution_count": null,
      "metadata": {
        "id": "R7kk5RNOCDEz"
      },
      "outputs": [],
      "source": [
        "data1 = combined_df_type[['pos_0','pos_0','spd_0','spd_1']]"
      ]
    },
    {
      "cell_type": "code",
      "execution_count": null,
      "metadata": {
        "id": "JIVHwxCkCPyA"
      },
      "outputs": [],
      "source": [
        "from sklearn.preprocessing import StandardScaler\n",
        "data1 = np.array(data1)\n",
        "# Scale the data\n",
        "scaler = StandardScaler()\n",
        "scaled_data = scaler.fit_transform(data1)"
      ]
    },
    {
      "cell_type": "code",
      "execution_count": null,
      "metadata": {
        "id": "4sx-yn0sCSvM"
      },
      "outputs": [],
      "source": [
        "x = scaled_data\n",
        "y= combined_df_type['type']"
      ]
    },
    {
      "cell_type": "markdown",
      "metadata": {
        "id": "DO5R7znrZu6l"
      },
      "source": [
        "# Feature Engineering"
      ]
    },
    {
      "cell_type": "code",
      "execution_count": null,
      "metadata": {
        "colab": {
          "base_uri": "https://localhost:8080/"
        },
        "id": "dzo7qiqwW7sa",
        "outputId": "bbd881cd-778a-4940-f954-07829425db90"
      },
      "outputs": [
        {
          "output_type": "execute_result",
          "data": {
            "text/plain": [
              "array(['ConstPos', 'ConstPosOffset', 'ConstSpeedOffset',\n",
              "       'RandomSpeedOffset', 'RandomSpeed', 'RandomPosOffset', 'RandomPos',\n",
              "       'GridSybil', 'Disruptive', 'DoS', 'EventualStop',\n",
              "       'DelayedMessages', 'DataReplay', 'DoSDisruptiveSybil',\n",
              "       'DoSDisruptive'], dtype=object)"
            ]
          },
          "metadata": {},
          "execution_count": 21
        }
      ],
      "source": [
        "combined_df_type['Attacks'].unique()"
      ]
    },
    {
      "cell_type": "code",
      "execution_count": null,
      "metadata": {
        "colab": {
          "base_uri": "https://localhost:8080/"
        },
        "id": "uvKzwGhTZhqv",
        "outputId": "2cd8c76b-d133-4ae9-a02d-8430a6383d80"
      },
      "outputs": [
        {
          "output_type": "stream",
          "name": "stdout",
          "text": [
            "(128000, 4)\n",
            "(32000, 4)\n",
            "(128000,)\n",
            "(32000,)\n"
          ]
        }
      ],
      "source": [
        "# Split the data into features (X) and target (y)\n",
        "X = combined_df_type.drop(['type', 'Attacks'], axis=1)\n",
        "y = combined_df_type['type']\n",
        "# Split the data into training and test sets\n",
        "X_train_type, X_test_type, y_train_type, y_test_type = train_test_split(X, y, test_size=0.2)\n",
        "print(X_train_type.shape)\n",
        "print(X_test_type.shape)\n",
        "print(y_train_type.shape)\n",
        "print(y_test_type.shape)"
      ]
    },
    {
      "cell_type": "markdown",
      "metadata": {
        "id": "KZMuqMfZajlU"
      },
      "source": [
        "# Test Case Shuffle Dataset- Type as a Target"
      ]
    },
    {
      "cell_type": "code",
      "execution_count": null,
      "metadata": {
        "id": "WfQRyv8zaobd"
      },
      "outputs": [],
      "source": [
        "pred_df=combined_df_type\n",
        "# Seperate the 0-non attacker and 1-attacker from original dataframe\n",
        "pred_df_type_0=pred_df.loc[pred_df['type']==0]\n",
        "pred_df_type_1=pred_df.loc[pred_df['type']==1]\n",
        "# List\n",
        "final_dataset=[]\n",
        "# Non Attacker -0 slice into 20 rows\n",
        "combine_pred_df_type_0=pred_df_type_0.loc[:20]\n",
        "# append into the list\n",
        "final_dataset.append(combine_pred_df_type_0)\n",
        "pred_df_type_1=pred_df.loc[pred_df['type']==1]\n",
        "pred_df_type_1=pred_df_type_1.reset_index(drop=True)\n",
        "# Attacker-1 slice into 10 rows\n",
        "combine_pred_df_type_1=pred_df_type_1.loc[:10]\n",
        "# append into list\n",
        "final_dataset.append(combine_pred_df_type_1)"
      ]
    },
    {
      "cell_type": "code",
      "execution_count": null,
      "metadata": {
        "id": "Tmn_xXzlbJvP"
      },
      "outputs": [],
      "source": [
        "# concatinate the list\n",
        "final_train_data=pd.concat(final_dataset)\n",
        "# Drop the indexs\n",
        "final_train_data=final_train_data.reset_index(drop=True)\n",
        "# shuffle the dataframe random\n",
        "shuffled_df = final_train_data.sample(frac = 1)\n",
        "# reindexs the shuffle dataframe\n",
        "shuffled_df = shuffled_df.reset_index()\n",
        "# drop the index columns\n",
        "shuffled_df = shuffled_df.drop('index', axis=1)"
      ]
    },
    {
      "cell_type": "code",
      "execution_count": null,
      "metadata": {
        "id": "rEQUWjL-bTQZ"
      },
      "outputs": [],
      "source": [
        "df = pd.DataFrame(shuffled_df) # your original dataframe\n",
        "\n",
        "# create list to hold the new dataframes\n",
        "dfs = []\n",
        "# loop through 6 times, each time increasing the number of rows\n",
        "for i in range(1, 7):\n",
        "    rows = i * 5 # calculate number of rows\n",
        "    new_df = df.iloc[:rows]\n",
        "     # slice the dataframe to get the desired number of rows\n",
        "    dfs.append(new_df) # add the new dataframe to the list"
      ]
    },
    {
      "cell_type": "markdown",
      "metadata": {
        "id": "xCntfo_laJDp"
      },
      "source": [
        "# Training Machine Learning Models -Type as a Target"
      ]
    },
    {
      "cell_type": "code",
      "execution_count": null,
      "metadata": {
        "id": "Em4mzgvVb77c"
      },
      "outputs": [],
      "source": [
        "def test_cases(model, dfs):\n",
        "  model_accuracy = []\n",
        "  final_times = []\n",
        "  precision_scores=[]\n",
        "  recall_scores=[]\n",
        "  f1_scores=[]\n",
        "  for test in dfs:\n",
        "    # splitting features and target\n",
        "    X = test.drop(['type', 'Attacks'], axis=1)\n",
        "    # X = X.iloc[:, :3]\n",
        "    # print(X)\n",
        "    y = test['type']\n",
        "    # start time\n",
        "    start_time = time.time()\n",
        "    #  prediction\n",
        "    y_pred = model.predict(X)\n",
        "    # end time\n",
        "    end_time = time.time()\n",
        "    accuracy = accuracy_score(y, y_pred)\n",
        "    # precision tp / (tp + fp)\n",
        "    precision= precision_score(y, y_pred)\n",
        "    # print(precision)\n",
        "    # recall: tp / (tp + fn)\n",
        "    recall = recall_score(y, y_pred)\n",
        "    # f1: 2 tp / (2 tp + fp + fn)\n",
        "    f1 = f1_score(y, y_pred)\n",
        "    final_time = end_time - start_time\n",
        "    model_accuracy.append(accuracy)\n",
        "    precision_scores.append(precision)\n",
        "    recall_scores.append(recall)\n",
        "    f1_scores.append(f1)\n",
        "    final_times.append(final_time)\n",
        "\n",
        "  return model_accuracy, final_times , precision_scores , recall_scores , f1_scores"
      ]
    },
    {
      "cell_type": "markdown",
      "metadata": {
        "id": "TBVjedSlaTld"
      },
      "source": [
        "### Decision Tree Classification"
      ]
    },
    {
      "cell_type": "code",
      "execution_count": null,
      "metadata": {
        "colab": {
          "base_uri": "https://localhost:8080/"
        },
        "id": "LEC1ZENfaFDY",
        "outputId": "c68dd17c-8dc2-49bf-9953-60f7ee68e37e"
      },
      "outputs": [
        {
          "output_type": "stream",
          "name": "stdout",
          "text": [
            "Accuracy: 0.81113125\n"
          ]
        }
      ],
      "source": [
        "dcc= tree.DecisionTreeClassifier(max_depth=3, random_state=42)\n",
        "dcc_model_step_1=dcc.fit(x,y)\n",
        "y_pred_type = dcc_model_step_1.predict(x)\n",
        "accuracy = accuracy_score(y, y_pred_type)\n",
        "print(\"Accuracy:\", accuracy)"
      ]
    },
    {
      "cell_type": "markdown",
      "metadata": {
        "id": "e3WxWBTycnwk"
      },
      "source": [
        "# Test Case- 1"
      ]
    },
    {
      "cell_type": "markdown",
      "metadata": {
        "id": "rnwWaFLsbvIG"
      },
      "source": [
        "\n",
        "> Accuracy of test case on  Five Test Messages\n",
        "\n",
        "\n"
      ]
    },
    {
      "cell_type": "code",
      "execution_count": null,
      "metadata": {
        "colab": {
          "base_uri": "https://localhost:8080/"
        },
        "id": "IEsI8Q5_cU21",
        "outputId": "60bc7d83-6f4d-42ff-fcd8-bcab2c137f15"
      },
      "outputs": [
        {
          "output_type": "stream",
          "name": "stdout",
          "text": [
            "          5msg     10msg     15msg     20msg     25msg     30msg\n",
            "DT    1.000000  0.800000  0.733333  0.600000  0.640000  0.666667\n",
            "Time  0.003309  0.008604  0.002043  0.002053  0.002566  0.002444\n"
          ]
        },
        {
          "output_type": "stream",
          "name": "stderr",
          "text": [
            "/usr/local/lib/python3.10/dist-packages/sklearn/base.py:432: UserWarning: X has feature names, but DecisionTreeClassifier was fitted without feature names\n",
            "  warnings.warn(\n",
            "/usr/local/lib/python3.10/dist-packages/sklearn/metrics/_classification.py:1344: UndefinedMetricWarning: Precision is ill-defined and being set to 0.0 due to no predicted samples. Use `zero_division` parameter to control this behavior.\n",
            "  _warn_prf(average, modifier, msg_start, len(result))\n",
            "/usr/local/lib/python3.10/dist-packages/sklearn/metrics/_classification.py:1344: UndefinedMetricWarning: Recall is ill-defined and being set to 0.0 due to no true samples. Use `zero_division` parameter to control this behavior.\n",
            "  _warn_prf(average, modifier, msg_start, len(result))\n",
            "/usr/local/lib/python3.10/dist-packages/sklearn/metrics/_classification.py:1609: UndefinedMetricWarning: F-score is ill-defined and being set to 0.0 due to no true nor predicted samples. Use `zero_division` parameter to control this behavior.\n",
            "  _warn_prf(average, \"true nor predicted\", \"F-score is\", len(true_sum))\n",
            "/usr/local/lib/python3.10/dist-packages/sklearn/base.py:432: UserWarning: X has feature names, but DecisionTreeClassifier was fitted without feature names\n",
            "  warnings.warn(\n",
            "/usr/local/lib/python3.10/dist-packages/sklearn/metrics/_classification.py:1344: UndefinedMetricWarning: Precision is ill-defined and being set to 0.0 due to no predicted samples. Use `zero_division` parameter to control this behavior.\n",
            "  _warn_prf(average, modifier, msg_start, len(result))\n",
            "/usr/local/lib/python3.10/dist-packages/sklearn/base.py:432: UserWarning: X has feature names, but DecisionTreeClassifier was fitted without feature names\n",
            "  warnings.warn(\n",
            "/usr/local/lib/python3.10/dist-packages/sklearn/metrics/_classification.py:1344: UndefinedMetricWarning: Precision is ill-defined and being set to 0.0 due to no predicted samples. Use `zero_division` parameter to control this behavior.\n",
            "  _warn_prf(average, modifier, msg_start, len(result))\n",
            "/usr/local/lib/python3.10/dist-packages/sklearn/base.py:432: UserWarning: X has feature names, but DecisionTreeClassifier was fitted without feature names\n",
            "  warnings.warn(\n",
            "/usr/local/lib/python3.10/dist-packages/sklearn/metrics/_classification.py:1344: UndefinedMetricWarning: Precision is ill-defined and being set to 0.0 due to no predicted samples. Use `zero_division` parameter to control this behavior.\n",
            "  _warn_prf(average, modifier, msg_start, len(result))\n",
            "/usr/local/lib/python3.10/dist-packages/sklearn/base.py:432: UserWarning: X has feature names, but DecisionTreeClassifier was fitted without feature names\n",
            "  warnings.warn(\n",
            "/usr/local/lib/python3.10/dist-packages/sklearn/metrics/_classification.py:1344: UndefinedMetricWarning: Precision is ill-defined and being set to 0.0 due to no predicted samples. Use `zero_division` parameter to control this behavior.\n",
            "  _warn_prf(average, modifier, msg_start, len(result))\n",
            "/usr/local/lib/python3.10/dist-packages/sklearn/base.py:432: UserWarning: X has feature names, but DecisionTreeClassifier was fitted without feature names\n",
            "  warnings.warn(\n",
            "/usr/local/lib/python3.10/dist-packages/sklearn/metrics/_classification.py:1344: UndefinedMetricWarning: Precision is ill-defined and being set to 0.0 due to no predicted samples. Use `zero_division` parameter to control this behavior.\n",
            "  _warn_prf(average, modifier, msg_start, len(result))\n"
          ]
        }
      ],
      "source": [
        "mod_acc = test_cases(dcc_model_step_1, dfs)\n",
        "# display in table\n",
        "test_accuracy_step_1_1={ '5msg' : mod_acc[0][0] , '10msg' : mod_acc[0][1] , '15msg' : mod_acc[0][2], '20msg' : mod_acc[0][3] , '25msg' : mod_acc[0][4] , '30msg' : mod_acc[0][5]}\n",
        "Time_time_step_1_1={ '5msg' : mod_acc[1][0] , '10msg' : mod_acc[1][1] , '15msg' : mod_acc[1][2], '20msg' : mod_acc[1][3] , '25msg' : mod_acc[1][4] , '30msg' : mod_acc[1][5]}\n",
        "test_1_dataframe_step_1=pd.DataFrame([test_accuracy_step_1_1 , Time_time_step_1_1] , index=['DT' , 'Time'])\n",
        "print(test_1_dataframe_step_1)"
      ]
    },
    {
      "cell_type": "markdown",
      "metadata": {
        "id": "SpbTO0fRc0pd"
      },
      "source": [
        "### Compare Accuracy Vs Time"
      ]
    },
    {
      "cell_type": "code",
      "execution_count": null,
      "metadata": {
        "colab": {
          "base_uri": "https://localhost:8080/",
          "height": 489
        },
        "id": "WvfyXPizdC5P",
        "outputId": "21850a5a-1fe9-4427-c48d-6ce6b7081830"
      },
      "outputs": [
        {
          "output_type": "execute_result",
          "data": {
            "text/plain": [
              "Text(0.5, 1.0, 'Prediction of DTC Vs Time')"
            ]
          },
          "metadata": {},
          "execution_count": 29
        },
        {
          "output_type": "display_data",
          "data": {
            "text/plain": [
              "<Figure size 640x480 with 1 Axes>"
            ],
            "image/png": "[encoded data removed]"
          },
          "metadata": {}
        }
      ],
      "source": [
        "sns.barplot(test_1_dataframe_step_1)\n",
        "plt.xlabel('Message')\n",
        "plt.ylabel('Time')\n",
        "plt.title('Prediction of DTC Vs Time')"
      ]
    },
    {
      "cell_type": "markdown",
      "metadata": {
        "id": "4d7BXrXe9PNs"
      },
      "source": [
        "# Evaluation"
      ]
    },
    {
      "cell_type": "markdown",
      "metadata": {
        "id": "D6B4lBpt3_F7"
      },
      "source": [
        "\n",
        "\n",
        "> Recall , f1 and preciouse\n",
        "\n"
      ]
    },
    {
      "cell_type": "code",
      "execution_count": null,
      "metadata": {
        "colab": {
          "base_uri": "https://localhost:8080/"
        },
        "id": "NgOFO-fH4OhA",
        "outputId": "729cc8b9-2cea-40fe-b24c-e3c35e92f3a6"
      },
      "outputs": [
        {
          "output_type": "stream",
          "name": "stdout",
          "text": [
            "           5msg  10msg     15msg  20msg  25msg     30msg\n",
            "Accuracy    1.0    0.8  0.733333    0.6   0.64  0.666667\n",
            "preciouse   0.0    0.0  0.000000    0.0   0.00  0.000000\n",
            "Recall      0.0    0.0  0.000000    0.0   0.00  0.000000\n",
            "F1          0.0    0.0  0.000000    0.0   0.00  0.000000\n"
          ]
        }
      ],
      "source": [
        "final_test_accuracy_step_1_1={ '5msg' : mod_acc[0][0] , '10msg' : mod_acc[0][1] , '15msg' : mod_acc[0][2], '20msg' : mod_acc[0][3] , '25msg' : mod_acc[0][4] , '30msg' : mod_acc[0][5]}\n",
        "final_test_preciouse_step_1_1={ '5msg' : mod_acc[2][0] , '10msg' : mod_acc[2][1] , '15msg' : mod_acc[2][2], '20msg' : mod_acc[2][3] , '25msg' : mod_acc[2][4] , '30msg' : mod_acc[2][5]}\n",
        "Final_Time_recall_step_1_1={ '5msg' : mod_acc[3][0] , '10msg' : mod_acc[3][1] , '15msg' : mod_acc[3][2], '20msg' : mod_acc[3][3] , '25msg' : mod_acc[3][4] , '30msg' : mod_acc[3][5]}\n",
        "Final_Time_f1_step_1_1={ '5msg' : mod_acc[4][0] , '10msg' : mod_acc[4][1] , '15msg' : mod_acc[4][2], '20msg' : mod_acc[4][3] , '25msg' : mod_acc[4][4] , '30msg' : mod_acc[4][5]}\n",
        "matrix_dataframe_1=pd.DataFrame([final_test_accuracy_step_1_1 , final_test_preciouse_step_1_1 ,Final_Time_recall_step_1_1 ,Final_Time_f1_step_1_1 ] , index=['Accuracy' , 'preciouse' , 'Recall' , 'F1'])\n",
        "print(matrix_dataframe_1)"
      ]
    },
    {
      "cell_type": "markdown",
      "metadata": {
        "id": "nPiUUzDkdX5d"
      },
      "source": [
        "### KNN Model"
      ]
    },
    {
      "cell_type": "code",
      "execution_count": null,
      "metadata": {
        "colab": {
          "base_uri": "https://localhost:8080/"
        },
        "id": "WdVA9wCbdifc",
        "outputId": "7ef79d34-c038-4062-9dce-15f6af7055b2"
      },
      "outputs": [
        {
          "output_type": "stream",
          "name": "stdout",
          "text": [
            "Accuracy: 0.95458125\n"
          ]
        }
      ],
      "source": [
        "neigh_STEP_1 = KNeighborsClassifier(n_neighbors=3)\n",
        "neigh_STEP_1.fit(x , y)\n",
        "y_pred = neigh_STEP_1.predict(x)\n",
        "prob_acc = neigh_STEP_1.predict_proba(x)\n",
        "accuracy = accuracy_score(y, y_pred)\n",
        "print(\"Accuracy:\", accuracy)"
      ]
    },
    {
      "cell_type": "markdown",
      "metadata": {
        "id": "y5yxYxYK9fxD"
      },
      "source": [
        "# Test Case 2\n"
      ]
    },
    {
      "cell_type": "code",
      "execution_count": null,
      "metadata": {
        "id": "pkHydzNMePSp",
        "colab": {
          "base_uri": "https://localhost:8080/"
        },
        "outputId": "c33f7ce3-68c8-49d1-b2e0-a62ec9ef7ac3"
      },
      "outputs": [
        {
          "output_type": "stream",
          "name": "stderr",
          "text": [
            "/usr/local/lib/python3.10/dist-packages/sklearn/base.py:432: UserWarning: X has feature names, but KNeighborsClassifier was fitted without feature names\n",
            "  warnings.warn(\n",
            "/usr/local/lib/python3.10/dist-packages/sklearn/metrics/_classification.py:1344: UndefinedMetricWarning: Precision is ill-defined and being set to 0.0 due to no predicted samples. Use `zero_division` parameter to control this behavior.\n",
            "  _warn_prf(average, modifier, msg_start, len(result))\n",
            "/usr/local/lib/python3.10/dist-packages/sklearn/metrics/_classification.py:1344: UndefinedMetricWarning: Recall is ill-defined and being set to 0.0 due to no true samples. Use `zero_division` parameter to control this behavior.\n",
            "  _warn_prf(average, modifier, msg_start, len(result))\n",
            "/usr/local/lib/python3.10/dist-packages/sklearn/metrics/_classification.py:1609: UndefinedMetricWarning: F-score is ill-defined and being set to 0.0 due to no true nor predicted samples. Use `zero_division` parameter to control this behavior.\n",
            "  _warn_prf(average, \"true nor predicted\", \"F-score is\", len(true_sum))\n",
            "/usr/local/lib/python3.10/dist-packages/sklearn/base.py:432: UserWarning: X has feature names, but KNeighborsClassifier was fitted without feature names\n",
            "  warnings.warn(\n",
            "/usr/local/lib/python3.10/dist-packages/sklearn/metrics/_classification.py:1344: UndefinedMetricWarning: Precision is ill-defined and being set to 0.0 due to no predicted samples. Use `zero_division` parameter to control this behavior.\n",
            "  _warn_prf(average, modifier, msg_start, len(result))\n",
            "/usr/local/lib/python3.10/dist-packages/sklearn/base.py:432: UserWarning: X has feature names, but KNeighborsClassifier was fitted without feature names\n",
            "  warnings.warn(\n",
            "/usr/local/lib/python3.10/dist-packages/sklearn/metrics/_classification.py:1344: UndefinedMetricWarning: Precision is ill-defined and being set to 0.0 due to no predicted samples. Use `zero_division` parameter to control this behavior.\n",
            "  _warn_prf(average, modifier, msg_start, len(result))\n",
            "/usr/local/lib/python3.10/dist-packages/sklearn/base.py:432: UserWarning: X has feature names, but KNeighborsClassifier was fitted without feature names\n",
            "  warnings.warn(\n",
            "/usr/local/lib/python3.10/dist-packages/sklearn/metrics/_classification.py:1344: UndefinedMetricWarning: Precision is ill-defined and being set to 0.0 due to no predicted samples. Use `zero_division` parameter to control this behavior.\n",
            "  _warn_prf(average, modifier, msg_start, len(result))\n",
            "/usr/local/lib/python3.10/dist-packages/sklearn/base.py:432: UserWarning: X has feature names, but KNeighborsClassifier was fitted without feature names\n",
            "  warnings.warn(\n",
            "/usr/local/lib/python3.10/dist-packages/sklearn/metrics/_classification.py:1344: UndefinedMetricWarning: Precision is ill-defined and being set to 0.0 due to no predicted samples. Use `zero_division` parameter to control this behavior.\n",
            "  _warn_prf(average, modifier, msg_start, len(result))\n",
            "/usr/local/lib/python3.10/dist-packages/sklearn/base.py:432: UserWarning: X has feature names, but KNeighborsClassifier was fitted without feature names\n",
            "  warnings.warn(\n",
            "/usr/local/lib/python3.10/dist-packages/sklearn/metrics/_classification.py:1344: UndefinedMetricWarning: Precision is ill-defined and being set to 0.0 due to no predicted samples. Use `zero_division` parameter to control this behavior.\n",
            "  _warn_prf(average, modifier, msg_start, len(result))\n"
          ]
        }
      ],
      "source": [
        "mod_acc = test_cases(neigh_STEP_1, dfs)\n",
        "# display in table\n",
        "test_accuracy_step_1_2={ '5msg' : mod_acc[0][0] , '10msg' : mod_acc[0][1] , '15msg' : mod_acc[0][2], '20msg' : mod_acc[0][3] , '25msg' : mod_acc[0][4] , '30msg' : mod_acc[0][5]}\n",
        "Time_time_step_1_2={ '5msg' : mod_acc[1][0] , '10msg' : mod_acc[1][1] , '15msg' : mod_acc[1][2], '20msg' : mod_acc[1][3] , '25msg' : mod_acc[1][4] , '30msg' : mod_acc[1][5]}\n",
        "test_2_dataframe_step_1=pd.DataFrame([test_accuracy_step_1_2 , Time_time_step_1_2] , index=['KNN' , 'Time'])\n"
      ]
    },
    {
      "cell_type": "code",
      "execution_count": null,
      "metadata": {
        "id": "PCxFIcE1ed0h",
        "colab": {
          "base_uri": "https://localhost:8080/",
          "height": 524
        },
        "outputId": "79a7c8dd-1fc7-4b86-e98c-d37c19e3cab1"
      },
      "outputs": [
        {
          "output_type": "stream",
          "name": "stdout",
          "text": [
            "         5msg     10msg     15msg     20msg     25msg     30msg\n",
            "KNN   1.00000  0.800000  0.733333  0.600000  0.640000  0.666667\n",
            "Time  0.00939  0.004935  0.004256  0.004433  0.004841  0.005098\n"
          ]
        },
        {
          "output_type": "display_data",
          "data": {
            "text/plain": [
              "<Figure size 640x480 with 1 Axes>"
            ],
            "image/png": "[encoded data removed]"
          },
          "metadata": {}
        }
      ],
      "source": [
        "sns.barplot(test_2_dataframe_step_1)\n",
        "plt.xlabel('Message')\n",
        "plt.ylabel('Time')\n",
        "plt.title('Prediction of KNN Vs Time')\n",
        "print(test_2_dataframe_step_1)"
      ]
    },
    {
      "cell_type": "markdown",
      "metadata": {
        "id": "MLhnGi3D742C"
      },
      "source": [
        "# Evaluation"
      ]
    },
    {
      "cell_type": "markdown",
      "metadata": {
        "id": "GjwZx_bV6bmj"
      },
      "source": [
        "\n",
        "\n",
        "> Recall , Preciouse and F1\n",
        "\n"
      ]
    },
    {
      "cell_type": "code",
      "execution_count": null,
      "metadata": {
        "id": "rnLWYJP46Cmm",
        "colab": {
          "base_uri": "https://localhost:8080/"
        },
        "outputId": "c9727e1b-593a-4c21-fdef-4ebd28d9518d"
      },
      "outputs": [
        {
          "output_type": "stream",
          "name": "stdout",
          "text": [
            "           5msg  10msg     15msg  20msg  25msg     30msg\n",
            "Accuracy    1.0    0.8  0.733333    0.6   0.64  0.666667\n",
            "preciouse   0.0    0.0  0.000000    0.0   0.00  0.000000\n",
            "Recall      0.0    0.0  0.000000    0.0   0.00  0.000000\n",
            "F1          0.0    0.0  0.000000    0.0   0.00  0.000000\n"
          ]
        }
      ],
      "source": [
        "final_test_accuracy_step_1_2={ '5msg' : mod_acc[0][0] , '10msg' : mod_acc[0][1] , '15msg' : mod_acc[0][2], '20msg' : mod_acc[0][3] , '25msg' : mod_acc[0][4] , '30msg' : mod_acc[0][5]}\n",
        "final_test_preciouse_step_1_2={ '5msg' : mod_acc[2][0] , '10msg' : mod_acc[2][1] , '15msg' : mod_acc[2][2], '20msg' : mod_acc[2][3] , '25msg' : mod_acc[2][4] , '30msg' : mod_acc[2][5]}\n",
        "Final_Time_recall_step_1_2={ '5msg' : mod_acc[3][0] , '10msg' : mod_acc[3][1] , '15msg' : mod_acc[3][2], '20msg' : mod_acc[3][3] , '25msg' : mod_acc[3][4] , '30msg' : mod_acc[3][5]}\n",
        "Final_Time_f1_step_1_2={ '5msg' : mod_acc[4][0] , '10msg' : mod_acc[4][1] , '15msg' : mod_acc[4][2], '20msg' : mod_acc[4][3] , '25msg' : mod_acc[4][4] , '30msg' : mod_acc[4][5]}\n",
        "matrix_dataframe_2=pd.DataFrame([final_test_accuracy_step_1_2 , final_test_preciouse_step_1_2 ,Final_Time_recall_step_1_2 ,Final_Time_f1_step_1_2 ] , index=['Accuracy' , 'preciouse' , 'Recall' , 'F1'])\n",
        "print(matrix_dataframe_2)"
      ]
    },
    {
      "cell_type": "markdown",
      "metadata": {
        "id": "xFJVkWyEe3q7"
      },
      "source": [
        "### Random Forest Classifier"
      ]
    },
    {
      "cell_type": "code",
      "execution_count": null,
      "metadata": {
        "id": "Qi6BXPVde9fi",
        "colab": {
          "base_uri": "https://localhost:8080/"
        },
        "outputId": "a72c6137-35f4-437c-a801-fa5afa88b2c4"
      },
      "outputs": [
        {
          "output_type": "stream",
          "name": "stdout",
          "text": [
            "Accuracy: 0.99405\n"
          ]
        }
      ],
      "source": [
        "rfc_step_1 = RandomForestClassifier()\n",
        "rfc_step_1.fit(x, y)\n",
        "y_pred = rfc_step_1.predict(x)\n",
        "accuracy = accuracy_score(y, y_pred)\n",
        "print(\"Accuracy:\", accuracy)"
      ]
    },
    {
      "cell_type": "markdown",
      "metadata": {
        "id": "U8YU_yMUfONs"
      },
      "source": [
        "## Test Case -3"
      ]
    },
    {
      "cell_type": "code",
      "execution_count": null,
      "metadata": {
        "id": "Adk9Spn4fLFs",
        "colab": {
          "base_uri": "https://localhost:8080/"
        },
        "outputId": "02893f4a-1c71-4b57-f1b3-bde23436a5d8"
      },
      "outputs": [
        {
          "output_type": "stream",
          "name": "stderr",
          "text": [
            "/usr/local/lib/python3.10/dist-packages/sklearn/base.py:432: UserWarning: X has feature names, but RandomForestClassifier was fitted without feature names\n",
            "  warnings.warn(\n",
            "/usr/local/lib/python3.10/dist-packages/sklearn/metrics/_classification.py:1344: UndefinedMetricWarning: Precision is ill-defined and being set to 0.0 due to no predicted samples. Use `zero_division` parameter to control this behavior.\n",
            "  _warn_prf(average, modifier, msg_start, len(result))\n",
            "/usr/local/lib/python3.10/dist-packages/sklearn/metrics/_classification.py:1344: UndefinedMetricWarning: Recall is ill-defined and being set to 0.0 due to no true samples. Use `zero_division` parameter to control this behavior.\n",
            "  _warn_prf(average, modifier, msg_start, len(result))\n",
            "/usr/local/lib/python3.10/dist-packages/sklearn/metrics/_classification.py:1609: UndefinedMetricWarning: F-score is ill-defined and being set to 0.0 due to no true nor predicted samples. Use `zero_division` parameter to control this behavior.\n",
            "  _warn_prf(average, \"true nor predicted\", \"F-score is\", len(true_sum))\n",
            "/usr/local/lib/python3.10/dist-packages/sklearn/base.py:432: UserWarning: X has feature names, but RandomForestClassifier was fitted without feature names\n",
            "  warnings.warn(\n",
            "/usr/local/lib/python3.10/dist-packages/sklearn/metrics/_classification.py:1344: UndefinedMetricWarning: Precision is ill-defined and being set to 0.0 due to no predicted samples. Use `zero_division` parameter to control this behavior.\n",
            "  _warn_prf(average, modifier, msg_start, len(result))\n",
            "/usr/local/lib/python3.10/dist-packages/sklearn/base.py:432: UserWarning: X has feature names, but RandomForestClassifier was fitted without feature names\n",
            "  warnings.warn(\n",
            "/usr/local/lib/python3.10/dist-packages/sklearn/metrics/_classification.py:1344: UndefinedMetricWarning: Precision is ill-defined and being set to 0.0 due to no predicted samples. Use `zero_division` parameter to control this behavior.\n",
            "  _warn_prf(average, modifier, msg_start, len(result))\n",
            "/usr/local/lib/python3.10/dist-packages/sklearn/base.py:432: UserWarning: X has feature names, but RandomForestClassifier was fitted without feature names\n",
            "  warnings.warn(\n",
            "/usr/local/lib/python3.10/dist-packages/sklearn/metrics/_classification.py:1344: UndefinedMetricWarning: Precision is ill-defined and being set to 0.0 due to no predicted samples. Use `zero_division` parameter to control this behavior.\n",
            "  _warn_prf(average, modifier, msg_start, len(result))\n",
            "/usr/local/lib/python3.10/dist-packages/sklearn/base.py:432: UserWarning: X has feature names, but RandomForestClassifier was fitted without feature names\n",
            "  warnings.warn(\n",
            "/usr/local/lib/python3.10/dist-packages/sklearn/metrics/_classification.py:1344: UndefinedMetricWarning: Precision is ill-defined and being set to 0.0 due to no predicted samples. Use `zero_division` parameter to control this behavior.\n",
            "  _warn_prf(average, modifier, msg_start, len(result))\n",
            "/usr/local/lib/python3.10/dist-packages/sklearn/base.py:432: UserWarning: X has feature names, but RandomForestClassifier was fitted without feature names\n",
            "  warnings.warn(\n",
            "/usr/local/lib/python3.10/dist-packages/sklearn/metrics/_classification.py:1344: UndefinedMetricWarning: Precision is ill-defined and being set to 0.0 due to no predicted samples. Use `zero_division` parameter to control this behavior.\n",
            "  _warn_prf(average, modifier, msg_start, len(result))\n"
          ]
        }
      ],
      "source": [
        "mod_acc = test_cases(rfc_step_1, dfs)\n",
        "# display in table\n",
        "test_step_1_3={ '5msg' : mod_acc[0][0] , '10msg' : mod_acc[0][1] , '15msg' : mod_acc[0][2], '20msg' : mod_acc[0][3] , '25msg' : mod_acc[0][4] , '30msg' : mod_acc[0][5]}\n",
        "Time_step_1_3={ '5msg' : mod_acc[1][0] , '10msg' : mod_acc[1][1] , '15msg' : mod_acc[1][2], '20msg' : mod_acc[1][3] , '25msg' : mod_acc[1][4] , '30msg' : mod_acc[1][5]}\n",
        "test_3_dataframe_step_1=pd.DataFrame([test_step_1_3 , Time_step_1_3] , index=['RF' , 'Time'])"
      ]
    },
    {
      "cell_type": "code",
      "execution_count": null,
      "metadata": {
        "id": "I_6qfZ2tfM05",
        "colab": {
          "base_uri": "https://localhost:8080/",
          "height": 524
        },
        "outputId": "ad5a8e38-7103-4b5c-a2aa-d7f8050d3900"
      },
      "outputs": [
        {
          "output_type": "stream",
          "name": "stdout",
          "text": [
            "          5msg     10msg     15msg     20msg    25msg     30msg\n",
            "RF    1.000000  0.800000  0.733333  0.600000  0.64000  0.666667\n",
            "Time  0.020603  0.018672  0.016482  0.019613  0.01706  0.020379\n"
          ]
        },
        {
          "output_type": "display_data",
          "data": {
            "text/plain": [
              "<Figure size 640x480 with 1 Axes>"
            ],
            "image/png": "[encoded data removed]"
          },
          "metadata": {}
        }
      ],
      "source": [
        "sns.barplot(test_3_dataframe_step_1)\n",
        "plt.xlabel('Message')\n",
        "plt.ylabel('Time')\n",
        "plt.title('Prediction of RF Vs Time')\n",
        "print(test_3_dataframe_step_1)"
      ]
    },
    {
      "cell_type": "markdown",
      "metadata": {
        "id": "JkNCMYDQ8Lty"
      },
      "source": [
        "# Evaluation"
      ]
    },
    {
      "cell_type": "markdown",
      "metadata": {
        "id": "kJwancE68DTK"
      },
      "source": [
        "\n",
        "\n",
        "> Recall , preciouse and F1\n",
        "\n"
      ]
    },
    {
      "cell_type": "code",
      "execution_count": null,
      "metadata": {
        "id": "CwVA3-B38CiG",
        "colab": {
          "base_uri": "https://localhost:8080/"
        },
        "outputId": "0a57b75e-e562-4f1e-f9a8-8f196a2b676d"
      },
      "outputs": [
        {
          "output_type": "stream",
          "name": "stdout",
          "text": [
            "           5msg  10msg     15msg  20msg  25msg     30msg\n",
            "Accuracy    1.0    0.8  0.733333    0.6   0.64  0.666667\n",
            "preciouse   0.0    0.0  0.000000    0.0   0.00  0.000000\n",
            "Recall      0.0    0.0  0.000000    0.0   0.00  0.000000\n",
            "F1          0.0    0.0  0.000000    0.0   0.00  0.000000\n"
          ]
        }
      ],
      "source": [
        "final_test_accuracy_step_1_3={ '5msg' : mod_acc[0][0] , '10msg' : mod_acc[0][1] , '15msg' : mod_acc[0][2], '20msg' : mod_acc[0][3] , '25msg' : mod_acc[0][4] , '30msg' : mod_acc[0][5]}\n",
        "final_test_preciouse_step_1_3={ '5msg' : mod_acc[2][0] , '10msg' : mod_acc[2][1] , '15msg' : mod_acc[2][2], '20msg' : mod_acc[2][3] , '25msg' : mod_acc[2][4] , '30msg' : mod_acc[2][5]}\n",
        "Final_Time_recall_step_1_3={ '5msg' : mod_acc[3][0] , '10msg' : mod_acc[3][1] , '15msg' : mod_acc[3][2], '20msg' : mod_acc[3][3] , '25msg' : mod_acc[3][4] , '30msg' : mod_acc[3][5]}\n",
        "Final_Time_f1_step_1_3={ '5msg' : mod_acc[4][0] , '10msg' : mod_acc[4][1] , '15msg' : mod_acc[4][2], '20msg' : mod_acc[4][3] , '25msg' : mod_acc[4][4] , '30msg' : mod_acc[4][5]}\n",
        "matrix_dataframe_3=pd.DataFrame([final_test_accuracy_step_1_3 , final_test_preciouse_step_1_3 ,Final_Time_recall_step_1_3 ,Final_Time_f1_step_1_3 ] , index=['Accuracy' , 'preciouse' , 'Recall' , 'F1'])\n",
        "print(matrix_dataframe_3)"
      ]
    },
    {
      "cell_type": "markdown",
      "metadata": {
        "id": "qO1LZBKRhSj0"
      },
      "source": [
        "# GRU"
      ]
    },
    {
      "cell_type": "code",
      "execution_count": null,
      "metadata": {
        "id": "6lEHF8vOhWEb",
        "colab": {
          "base_uri": "https://localhost:8080/"
        },
        "outputId": "bffb2df4-f5bc-4115-c7d9-0ea37a263e8f"
      },
      "outputs": [
        {
          "output_type": "stream",
          "name": "stdout",
          "text": [
            "1067/1067 [==============================] - 36s 27ms/step - loss: 0.1536 - accuracy: 0.8111\n",
            "5000/5000 [==============================] - 22s 4ms/step\n"
          ]
        }
      ],
      "source": [
        "# Reshape input data to have 3 dimensions\n",
        "x = np.reshape(x, (x.shape[0], x.shape[1], 1))\n",
        "\n",
        "# Define the GRU model with the correct input shape\n",
        "regressorGRU_step_1_1= Sequential()\n",
        "regressorGRU_step_1_1.add(GRU(units=50, return_sequences=True, input_shape=(x.shape[1], x.shape[2]), activation='tanh'))\n",
        "regressorGRU_step_1_1.add(Dropout(0.2))\n",
        "regressorGRU_step_1_1.add(GRU(units=50, return_sequences=True, activation='tanh'))\n",
        "regressorGRU_step_1_1.add(Dropout(0.2))\n",
        "regressorGRU_step_1_1.add(GRU(units=50, return_sequences=True, activation='tanh'))\n",
        "regressorGRU_step_1_1.add(Dropout(0.2))\n",
        "regressorGRU_step_1_1.add(GRU(units=50, activation='tanh'))\n",
        "regressorGRU_step_1_1.add(Dropout(0.2))\n",
        "regressorGRU_step_1_1.add(Dense(units=1))\n",
        "regressorGRU_step_1_1.compile(optimizer=SGD(learning_rate=0.01, decay=1e-7, momentum=0.9, nesterov=False), loss='mean_squared_error', metrics=['accuracy'])\n",
        "regressorGRU_step_1_1.fit(x, y, batch_size=150)\n",
        "y_pred = regressorGRU_step_1_1.predict(x)"
      ]
    },
    {
      "cell_type": "markdown",
      "metadata": {
        "id": "gwvevDo-hyqk"
      },
      "source": [
        "# Test Case 5"
      ]
    },
    {
      "cell_type": "code",
      "execution_count": null,
      "metadata": {
        "id": "s8GwNYhNbs11"
      },
      "outputs": [],
      "source": [
        "def test_cases(model, dfs):\n",
        "  model_accuracy = []\n",
        "  final_times = []\n",
        "  precision_scores=[]\n",
        "  recall_scores=[]\n",
        "  f1_scores=[]\n",
        "  for test in dfs:\n",
        "    # splitting features and target\n",
        "    X = test.drop(['type', 'Attacks'], axis=1)\n",
        "    y = test['type']\n",
        "    # start time\n",
        "    start_time = time.time()\n",
        "    #  prediction\n",
        "    y_pred = model.predict(X)\n",
        "    y_pred=np.where(y_pred>0.5 , 0,1)\n",
        "\n",
        "    # end time\n",
        "    end_time = time.time()\n",
        "    accuracy = accuracy_score(y, y_pred)\n",
        "    # precision tp / (tp + fp)\n",
        "    precision= precision_score(y, y_pred)\n",
        "    # print(precision)\n",
        "    # recall: tp / (tp + fn)\n",
        "    recall = recall_score(y, y_pred)\n",
        "    # f1: 2 tp / (2 tp + fp + fn)\n",
        "    f1 = f1_score(y, y_pred)\n",
        "    final_time = end_time - start_time\n",
        "    model_accuracy.append(accuracy)\n",
        "    precision_scores.append(precision)\n",
        "    recall_scores.append(recall)\n",
        "    f1_scores.append(f1)\n",
        "    final_times.append(final_time)\n",
        "\n",
        "  return model_accuracy, final_times , precision_scores , recall_scores , f1_scores"
      ]
    },
    {
      "cell_type": "code",
      "execution_count": null,
      "metadata": {
        "id": "hG-__pLuh2v6",
        "colab": {
          "base_uri": "https://localhost:8080/",
          "height": 700
        },
        "outputId": "7a494208-3765-407e-e6e7-7aedbef63371"
      },
      "outputs": [
        {
          "output_type": "stream",
          "name": "stdout",
          "text": [
            "1/1 [==============================] - 1s 1s/step\n",
            "1/1 [==============================] - 0s 25ms/step\n",
            "1/1 [==============================] - 0s 23ms/step\n"
          ]
        },
        {
          "output_type": "stream",
          "name": "stderr",
          "text": [
            "/usr/local/lib/python3.10/dist-packages/sklearn/metrics/_classification.py:1344: UndefinedMetricWarning: Recall is ill-defined and being set to 0.0 due to no true samples. Use `zero_division` parameter to control this behavior.\n",
            "  _warn_prf(average, modifier, msg_start, len(result))\n"
          ]
        },
        {
          "output_type": "stream",
          "name": "stdout",
          "text": [
            "1/1 [==============================] - 0s 28ms/step\n",
            "1/1 [==============================] - 0s 23ms/step\n",
            "1/1 [==============================] - 0s 28ms/step\n",
            "          5msg     10msg     15msg     20msg     25msg     30msg\n",
            "GRU   0.000000  0.200000  0.266667  0.400000  0.360000  0.333333\n",
            "Time  1.452459  0.074771  0.078068  0.081157  0.088626  0.081376\n"
          ]
        },
        {
          "output_type": "execute_result",
          "data": {
            "text/plain": [
              "Text(0.5, 1.0, 'Prediction of GRU Vs Time')"
            ]
          },
          "metadata": {},
          "execution_count": 41
        },
        {
          "output_type": "display_data",
          "data": {
            "text/plain": [
              "<Figure size 640x480 with 1 Axes>"
            ],
            "image/png": "[encoded data removed]"
          },
          "metadata": {}
        }
      ],
      "source": [
        "mod_acc = test_cases(regressorGRU_step_1_1, dfs)\n",
        "# display in table\n",
        "test_step_1_4={ '5msg' : mod_acc[0][0] , '10msg' : mod_acc[0][1] , '15msg' : mod_acc[0][2], '20msg' : mod_acc[0][3] , '25msg' : mod_acc[0][4] , '30msg' : mod_acc[0][5]}\n",
        "Time_step_1_4={ '5msg' : mod_acc[1][0] , '10msg' : mod_acc[1][1] , '15msg' : mod_acc[1][2], '20msg' : mod_acc[1][3] , '25msg' : mod_acc[1][4] , '30msg' : mod_acc[1][5]}\n",
        "test_4_dataframe_step_1=pd.DataFrame([test_step_1_4 , Time_step_1_4] , index=['GRU' , 'Time'])\n",
        "print(test_4_dataframe_step_1)\n",
        "sns.barplot(test_4_dataframe_step_1)\n",
        "plt.xlabel('Message')\n",
        "plt.ylabel('Time')\n",
        "plt.title('Prediction of GRU Vs Time')"
      ]
    },
    {
      "cell_type": "code",
      "execution_count": null,
      "metadata": {
        "id": "SttMkcqFfTRp",
        "colab": {
          "base_uri": "https://localhost:8080/"
        },
        "outputId": "b55b568e-b873-4729-f0bc-ed55aef3729b"
      },
      "outputs": [
        {
          "output_type": "stream",
          "name": "stdout",
          "text": [
            "           5msg     10msg     15msg     20msg     25msg     30msg\n",
            "Accuracy    0.0  0.200000  0.266667  0.400000  0.360000  0.333333\n",
            "preciouse   0.0  0.200000  0.266667  0.400000  0.360000  0.333333\n",
            "Recall      0.0  1.000000  1.000000  1.000000  1.000000  1.000000\n",
            "F1          0.0  0.333333  0.421053  0.571429  0.529412  0.500000\n"
          ]
        }
      ],
      "source": [
        "final_test_accuracy_step_1_4={ '5msg' : mod_acc[0][0] , '10msg' : mod_acc[0][1] , '15msg' : mod_acc[0][2], '20msg' : mod_acc[0][3] , '25msg' : mod_acc[0][4] , '30msg' : mod_acc[0][5]}\n",
        "final_test_preciouse_step_1_4={ '5msg' : mod_acc[2][0] , '10msg' : mod_acc[2][1] , '15msg' : mod_acc[2][2], '20msg' : mod_acc[2][3] , '25msg' : mod_acc[2][4] , '30msg' : mod_acc[2][5]}\n",
        "Final_Time_recall_step_1_4={ '5msg' : mod_acc[3][0] , '10msg' : mod_acc[3][1] , '15msg' : mod_acc[3][2], '20msg' : mod_acc[3][3] , '25msg' : mod_acc[3][4] , '30msg' : mod_acc[3][5]}\n",
        "Final_Time_f1_step_1_4={ '5msg' : mod_acc[4][0] , '10msg' : mod_acc[4][1] , '15msg' : mod_acc[4][2], '20msg' : mod_acc[4][3] , '25msg' : mod_acc[4][4] , '30msg' : mod_acc[4][5]}\n",
        "matrix_dataframe_4=pd.DataFrame([final_test_accuracy_step_1_4 , final_test_preciouse_step_1_4 ,Final_Time_recall_step_1_4 ,Final_Time_f1_step_1_4 ] , index=['Accuracy' , 'preciouse' , 'Recall' , 'F1'])\n",
        "print(matrix_dataframe_4)"
      ]
    },
    {
      "cell_type": "markdown",
      "metadata": {
        "id": "NQMHI22_f7gR"
      },
      "source": [
        "# LSTM"
      ]
    },
    {
      "cell_type": "code",
      "execution_count": null,
      "metadata": {
        "id": "cB_IS9cbf-jf",
        "colab": {
          "base_uri": "https://localhost:8080/"
        },
        "outputId": "fc94a337-420d-4681-d0e9-b907e18097b0"
      },
      "outputs": [
        {
          "output_type": "stream",
          "name": "stdout",
          "text": [
            "5000/5000 [==============================] - 11s 2ms/step - loss: 0.1249 - accuracy: 0.8390\n"
          ]
        }
      ],
      "source": [
        "# # convert dataframes to numpy arrays\n",
        "# X_train = np.array(X_train_type)\n",
        "# y_train = np.array(y_train_type)\n",
        "# X_test = np.array(X_test_type)\n",
        "# y_test = np.array(y_test_type)\n",
        "\n",
        "# # reshape input data\n",
        "# X_train = X_train.reshape((x[0], x[1], 1))\n",
        "# X_test = X_test.reshape((x.shape[0], x.shape[1], 1))\n",
        "# define the model\n",
        "LSTM_model_step_1 = Sequential()\n",
        "LSTM_model_step_1.add(LSTM(50, input_shape=(x.shape[1], x.shape[2])))\n",
        "LSTM_model_step_1.add(Dense(1))\n",
        "# compile the model\n",
        "LSTM_model_step_1.compile(optimizer='adam', loss='mse', metrics=['accuracy'])\n",
        "\n",
        "# fit the model\n",
        "LSTM_model_step_1.fit(x, y, epochs=100, batch_size=32, verbose=0)\n",
        "\n",
        "# evaluate the model\n",
        "mse = LSTM_model_step_1.evaluate(x, y, verbose=0)\n",
        "score_step_1 = LSTM_model_step_1.evaluate(x, y, batch_size = 32)"
      ]
    },
    {
      "cell_type": "markdown",
      "metadata": {
        "id": "6p1h21ifvbqr"
      },
      "source": [
        "# Test Case 5"
      ]
    },
    {
      "cell_type": "code",
      "execution_count": null,
      "metadata": {
        "id": "zUeAZinRgz70",
        "colab": {
          "base_uri": "https://localhost:8080/"
        },
        "outputId": "a89ba870-8d54-4a86-ebca-6fc87319afdf"
      },
      "outputs": [
        {
          "output_type": "stream",
          "name": "stdout",
          "text": [
            "1/1 [==============================] - 0s 431ms/step\n",
            "1/1 [==============================] - 0s 22ms/step\n",
            "1/1 [==============================] - 0s 22ms/step\n"
          ]
        },
        {
          "output_type": "stream",
          "name": "stderr",
          "text": [
            "/usr/local/lib/python3.10/dist-packages/sklearn/metrics/_classification.py:1344: UndefinedMetricWarning: Recall is ill-defined and being set to 0.0 due to no true samples. Use `zero_division` parameter to control this behavior.\n",
            "  _warn_prf(average, modifier, msg_start, len(result))\n"
          ]
        },
        {
          "output_type": "stream",
          "name": "stdout",
          "text": [
            "1/1 [==============================] - 0s 21ms/step\n",
            "1/1 [==============================] - 0s 22ms/step\n",
            "1/1 [==============================] - 0s 23ms/step\n"
          ]
        }
      ],
      "source": [
        "mod_acc = test_cases(LSTM_model_step_1, dfs)\n",
        "# display in table\n",
        "test_step_1_5={ '5msg' : mod_acc[0][0] , '10msg' : mod_acc[0][1] , '15msg' : mod_acc[0][2], '20msg' : mod_acc[0][3] , '25msg' : mod_acc[0][4] , '30msg' : mod_acc[0][5]}\n",
        "Time_step_1_5={ '5msg' : mod_acc[1][0] , '10msg' : mod_acc[1][1] , '15msg' : mod_acc[1][2], '20msg' : mod_acc[1][3] , '25msg' : mod_acc[1][4] , '30msg' : mod_acc[1][5]}\n",
        "test_5_dataframe_step_1=pd.DataFrame([test_step_1_5 , Time_step_1_5] , index=['lstm' , 'Time'])"
      ]
    },
    {
      "cell_type": "code",
      "execution_count": null,
      "metadata": {
        "id": "SKo4XBFcXf0H",
        "colab": {
          "base_uri": "https://localhost:8080/"
        },
        "outputId": "30a1fd3b-a627-416d-d60b-6068b75e4b84"
      },
      "outputs": [
        {
          "output_type": "execute_result",
          "data": {
            "text/plain": [
              "([0.0, 0.2, 0.26666666666666666, 0.4, 0.36, 0.3333333333333333],\n",
              " [0.4949917793273926,\n",
              "  0.06988692283630371,\n",
              "  0.07239747047424316,\n",
              "  0.07091951370239258,\n",
              "  0.07144808769226074,\n",
              "  0.08074307441711426],\n",
              " [0.0, 0.2, 0.26666666666666666, 0.4, 0.36, 0.3333333333333333],\n",
              " [0.0, 1.0, 1.0, 1.0, 1.0, 1.0],\n",
              " [0.0,\n",
              "  0.33333333333333337,\n",
              "  0.4210526315789474,\n",
              "  0.5714285714285715,\n",
              "  0.5294117647058824,\n",
              "  0.5])"
            ]
          },
          "metadata": {},
          "execution_count": 45
        }
      ],
      "source": [
        "mod_acc"
      ]
    },
    {
      "cell_type": "code",
      "execution_count": null,
      "metadata": {
        "id": "uLMzQYiWg6oH",
        "colab": {
          "base_uri": "https://localhost:8080/",
          "height": 524
        },
        "outputId": "a4a0f5bc-cdf4-4b4b-bfbc-52bd93f2dc08"
      },
      "outputs": [
        {
          "output_type": "stream",
          "name": "stdout",
          "text": [
            "          5msg     10msg     15msg     20msg     25msg     30msg\n",
            "GRU   0.000000  0.200000  0.266667  0.400000  0.360000  0.333333\n",
            "Time  1.452459  0.074771  0.078068  0.081157  0.088626  0.081376\n"
          ]
        },
        {
          "output_type": "display_data",
          "data": {
            "text/plain": [
              "<Figure size 640x480 with 1 Axes>"
            ],
            "image/png": "[encoded data removed]"
          },
          "metadata": {}
        }
      ],
      "source": [
        "sns.barplot(test_4_dataframe_step_1)\n",
        "plt.xlabel('Message')\n",
        "plt.ylabel('Time')\n",
        "plt.title('Prediction of LSTM Vs Time')\n",
        "print(test_4_dataframe_step_1)"
      ]
    },
    {
      "cell_type": "markdown",
      "metadata": {
        "id": "83q-GEpqZLVG"
      },
      "source": [
        "\n",
        "\n",
        "> Recall . Preciouse and F1\n",
        "\n"
      ]
    },
    {
      "cell_type": "code",
      "execution_count": null,
      "metadata": {
        "id": "jrf1d1k61ILh",
        "colab": {
          "base_uri": "https://localhost:8080/"
        },
        "outputId": "85e1beef-5180-445f-defd-9c326653378c"
      },
      "outputs": [
        {
          "output_type": "stream",
          "name": "stdout",
          "text": [
            "           5msg     10msg     15msg     20msg     25msg     30msg\n",
            "Accuracy    0.0  0.200000  0.266667  0.400000  0.360000  0.333333\n",
            "preciouse   0.0  0.200000  0.266667  0.400000  0.360000  0.333333\n",
            "Recall      0.0  1.000000  1.000000  1.000000  1.000000  1.000000\n",
            "F1          0.0  0.333333  0.421053  0.571429  0.529412  0.500000\n"
          ]
        }
      ],
      "source": [
        "final_test_accuracy_step_1_5={ '5msg' : mod_acc[0][0] , '10msg' : mod_acc[0][1] , '15msg' : mod_acc[0][2], '20msg' : mod_acc[0][3] , '25msg' : mod_acc[0][4] , '30msg' : mod_acc[0][5]}\n",
        "final_test_preciouse_step_1_5={ '5msg' : mod_acc[2][0] ,'10msg' : mod_acc[2][1], '15msg' : mod_acc[2][2], '20msg' : mod_acc[2][3] , '25msg' : mod_acc[2][4] , '30msg' : mod_acc[2][5]}\n",
        "Final_Time_recall_step_1_5={ '5msg' : mod_acc[3][0] , '10msg' : mod_acc[3][1] , '15msg' : mod_acc[3][2], '20msg' : mod_acc[3][3] , '25msg' : mod_acc[3][4] , '30msg' : mod_acc[3][5]}\n",
        "Final_Time_f1_step_1_5={ '5msg' : mod_acc[4][0] , '10msg' : mod_acc[4][1] , '15msg' : mod_acc[4][2], '20msg' : mod_acc[4][3] , '25msg' : mod_acc[4][4] , '30msg' : mod_acc[4][5]}\n",
        "matrix_dataframe_5=pd.DataFrame([final_test_accuracy_step_1_5 , final_test_preciouse_step_1_5 ,Final_Time_recall_step_1_5 ,Final_Time_f1_step_1_5 ] , index=['Accuracy' , 'preciouse' , 'Recall' , 'F1'])\n",
        "print(matrix_dataframe_5)"
      ]
    },
    {
      "cell_type": "code",
      "execution_count": null,
      "metadata": {
        "id": "WXcQO_2R1IgW"
      },
      "outputs": [],
      "source": []
    },
    {
      "cell_type": "code",
      "execution_count": null,
      "metadata": {
        "id": "TVgrHuRu1I4i"
      },
      "outputs": [],
      "source": []
    },
    {
      "cell_type": "markdown",
      "metadata": {
        "id": "C-3Lidz51JUi"
      },
      "source": [
        "# Step 2 - Attacker as a Tareget Varaiable"
      ]
    },
    {
      "cell_type": "markdown",
      "metadata": {
        "id": "75ppV08c1MXQ"
      },
      "source": [
        "### Load Dataset"
      ]
    },
    {
      "cell_type": "code",
      "execution_count": null,
      "metadata": {
        "id": "2mc5gj9iYLs-",
        "colab": {
          "base_uri": "https://localhost:8080/"
        },
        "outputId": "032dc0e6-350d-454e-f9b8-4a6fc7c00c4b"
      },
      "outputs": [
        {
          "output_type": "stream",
          "name": "stdout",
          "text": [
            "        type       pos_0        pos_1      spd_0      spd_1        Attacks\n",
            "0          0  143.932447  1022.904829   0.000000   0.000000       ConstPos\n",
            "1          0  354.420706   641.637176  -2.108532  16.227503       ConstPos\n",
            "2          0  153.586183   900.726664   0.000149   0.000149       ConstPos\n",
            "3          0  928.797437  1091.099487   0.000020   0.000020       ConstPos\n",
            "4          0  155.782562   771.833062  -1.968970  13.744119       ConstPos\n",
            "...      ...         ...          ...        ...        ...            ...\n",
            "159995     1  132.119616   889.446690   0.000505   0.000505  DoSDisruptive\n",
            "159996     1  510.372108   860.120894   8.855281   8.277780  DoSDisruptive\n",
            "159997     1  630.371460   420.831258  14.423676   5.560019  DoSDisruptive\n",
            "159998     1  800.305077   791.123899  12.422521  -3.610628  DoSDisruptive\n",
            "159999     1  838.941172   742.790481  11.638469  -9.348271  DoSDisruptive\n",
            "\n",
            "[160000 rows x 6 columns]\n"
          ]
        }
      ],
      "source": [
        "combined_df_attacks=pd.read_csv('/content/train_dataset.csv')\n",
        "print(combined_df_attacks)"
      ]
    },
    {
      "cell_type": "code",
      "execution_count": null,
      "metadata": {
        "id": "-AIdvya6-bQ8"
      },
      "outputs": [],
      "source": [
        "le=preprocessing.LabelEncoder()\n",
        "combined_df_attacks['Attacks']=le.fit_transform(combined_df_attacks['Attacks'])"
      ]
    },
    {
      "cell_type": "code",
      "execution_count": null,
      "metadata": {
        "id": "2zrYu-Tv94Cx"
      },
      "outputs": [],
      "source": [
        "from sklearn.preprocessing import StandardScaler"
      ]
    },
    {
      "cell_type": "code",
      "execution_count": null,
      "metadata": {
        "id": "npLJrCH31LRd",
        "colab": {
          "base_uri": "https://localhost:8080/"
        },
        "outputId": "d175d40d-5810-4c52-b29d-5539c9fdf773"
      },
      "outputs": [
        {
          "output_type": "stream",
          "name": "stdout",
          "text": [
            "(128000, 3)\n",
            "(32000, 3)\n",
            "(128000,)\n",
            "(32000,)\n"
          ]
        }
      ],
      "source": [
        "# Split the data into features (X) and target (y)\n",
        "X_attacks = combined_df_attacks.drop(['type', 'Attacks'], axis=1)\n",
        "X_attacks = np.array(X_attacks)\n",
        "scaler = StandardScaler()\n",
        "X_attacks = scaler.fit_transform(X_attacks[:, 1:])\n",
        "y_attacks = combined_df_attacks['Attacks']\n",
        "# Split the data into training and test sets\n",
        "X_train_attacks, X_test_attacks, y_train_attacks, y_test_attacks = train_test_split(X_attacks, y_attacks, test_size=0.2)\n",
        "print(X_train_attacks.shape)\n",
        "print(X_test_attacks.shape)\n",
        "print(y_train_attacks.shape)\n",
        "print(y_test_attacks.shape)"
      ]
    },
    {
      "cell_type": "markdown",
      "metadata": {
        "id": "RW7UdewT-Kud"
      },
      "source": [
        "# Shuffle Dataset"
      ]
    },
    {
      "cell_type": "code",
      "execution_count": null,
      "metadata": {
        "id": "-blS01IK1LA9"
      },
      "outputs": [],
      "source": [
        "shuffled_df_attacks = pd.concat([pd.DataFrame(X_attacks), y_attacks], ignore_index=True,axis=1).sample(frac = 1)\n",
        "shuffled_df_attacks = shuffled_df_attacks.reset_index()\n",
        "final_shuffled_df_attacks = shuffled_df_attacks.drop('index', axis=1)\n",
        "final_shuffled_df_attacks"
      ]
    },
    {
      "cell_type": "code",
      "execution_count": null,
      "metadata": {
        "id": "t1WLbsu21K0F"
      },
      "outputs": [],
      "source": [
        "df = pd.DataFrame(final_shuffled_df_attacks)\n",
        "print(df)"
      ]
    },
    {
      "cell_type": "code",
      "execution_count": null,
      "metadata": {
        "id": "wRqhKyfJ_g12"
      },
      "outputs": [],
      "source": []
    },
    {
      "cell_type": "code",
      "execution_count": null,
      "metadata": {
        "id": "47PYjLIB_bSQ",
        "colab": {
          "base_uri": "https://localhost:8080/"
        },
        "outputId": "05251284-f23d-4af3-8696-a99babf5b8f1"
      },
      "outputs": [
        {
          "output_type": "execute_result",
          "data": {
            "text/plain": [
              "(160000, 4)"
            ]
          },
          "metadata": {},
          "execution_count": 54
        }
      ],
      "source": [
        "df.shape"
      ]
    },
    {
      "cell_type": "code",
      "source": [
        "from sklearn.preprocessing import StandardScaler\n",
        "data1 = np.array(data1)\n",
        "# Scale the data\n",
        "scaler = StandardScaler()\n",
        "scaled_data = scaler.fit_transform(data1[:,1:])"
      ],
      "metadata": {
        "id": "TiwPxSVnVHI5"
      },
      "execution_count": null,
      "outputs": []
    },
    {
      "cell_type": "code",
      "execution_count": null,
      "metadata": {
        "id": "VgOC1aSZ1Kkt"
      },
      "outputs": [],
      "source": [
        "df1=[]\n",
        "for i in range(df.shape[0]):\n",
        "    x= df.iloc[i]\n",
        "    x = np.array(x).reshape(1, -1)\n",
        "    pred =  dcc_model_step_1.predict(x)\n",
        "    if(pred):\n",
        "        df1.append(df.iloc[i])"
      ]
    },
    {
      "cell_type": "code",
      "execution_count": null,
      "metadata": {
        "id": "gJPr1SPc1KUB",
        "colab": {
          "base_uri": "https://localhost:8080/"
        },
        "outputId": "81b30648-1edd-4879-b45d-16afcc477061"
      },
      "outputs": [
        {
          "output_type": "stream",
          "name": "stdout",
          "text": [
            "               0         1         2    3\n",
            "333    -0.961210  0.316249 -1.734855  0.0\n",
            "857    -1.549705  0.282044 -1.741581  0.0\n",
            "1667   -1.282861  0.302483 -1.866210  1.0\n",
            "1793   -1.757853  0.338750 -1.906184  1.0\n",
            "1794   -1.472440  0.274627 -1.695795  1.0\n",
            "...          ...       ...       ...  ...\n",
            "157410 -1.020863  0.302024 -1.863376  1.0\n",
            "157602 -1.963472  0.209290 -1.882407  1.0\n",
            "159620 -1.771901  0.314071 -1.777543  1.0\n",
            "159741 -1.452171  0.297856 -1.837993  1.0\n",
            "159975 -1.147317  0.322732 -2.012865  1.0\n",
            "\n",
            "[287 rows x 4 columns]\n"
          ]
        }
      ],
      "source": [
        "df1 = pd.DataFrame(df1)\n",
        "print(df1)"
      ]
    },
    {
      "cell_type": "code",
      "execution_count": null,
      "metadata": {
        "id": "tpaxFX_71KDX"
      },
      "outputs": [],
      "source": [
        "# dfs_attacks=[]\n",
        "# import time\n",
        "# df = pd.DataFrame(final_shuffled_df_attacks) # your original dataframe\n",
        "\n",
        "# create list to hold the new dataframes\n",
        "\n",
        "\n",
        "dfs_attacks=[]\n",
        "# loop through 6 times, each time increasing the number of rows\n",
        "for i in range(25, 55,5):\n",
        "    # rows = i * 5 # calculate number of rows\n",
        "    # print( df1.iloc[:rows])\n",
        "    # print(i)\n",
        "    # new_df = df1.iloc[:rows]\n",
        "    #  # slice the dataframe to get the desired number of rows\n",
        "    dfs_attacks.append(df1.iloc[:i]) # add the new dataframe to the list"
      ]
    },
    {
      "cell_type": "markdown",
      "source": [
        "# Test Case step 2"
      ],
      "metadata": {
        "id": "qvUlMp9x0zV8"
      }
    },
    {
      "cell_type": "code",
      "execution_count": null,
      "metadata": {
        "id": "6MxY6kzn1JiT"
      },
      "outputs": [],
      "source": [
        "def test_cases(model_step_1, model_step_2, dfs):\n",
        "    model_accuracy = []\n",
        "    Final_time=[]\n",
        "    precision_scores=[]\n",
        "    recall_scores=[]\n",
        "    f1_scores=[]\n",
        "    for test in dfs:\n",
        "        # splitting features and target\n",
        "        X = test.drop(columns=[3], axis=1)\n",
        "        y_attacks = test[3]\n",
        "\n",
        "        #    print(X.iloc[[row]])\n",
        "        start_time=time.time()\n",
        "        y_pred_step_2 = model_step_2.predict(X)\n",
        "        End_time=time.time()\n",
        "        accuracy = accuracy_score(y_attacks, y_pred_step_2)\n",
        "        # precision tp / (tp + fp)\n",
        "        precision= precision_score(y, y_pred)\n",
        "        # print(precision)\n",
        "        # recall: tp / (tp + fn)\n",
        "        recall = recall_score(y, y_pred)\n",
        "        # f1: 2 tp / (2 tp + fp + fn)\n",
        "        f1 = f1_score(y, y_pred)\n",
        "        final_time=End_time-start_time\n",
        "\n",
        "\n",
        "\n",
        "            #    print(model_accuracy)\n",
        "        Final_time.append(final_time)\n",
        "        model_accuracy.append(accuracy)\n",
        "        precision_scores.append(precision)\n",
        "        recall_scores.append(recall)\n",
        "        f1_scores.append(f1)\n",
        "\n",
        "        return model_accuracy, Final_time , precision_scores , recall_scores , f1_scores"
      ]
    },
    {
      "cell_type": "code",
      "execution_count": null,
      "metadata": {
        "id": "wauTKLdbEASc",
        "colab": {
          "base_uri": "https://localhost:8080/"
        },
        "outputId": "bdae16d5-7a43-4bdb-bd80-183c7c316314"
      },
      "outputs": [
        {
          "output_type": "stream",
          "name": "stdout",
          "text": [
            "Accuracy: 0.73125\n"
          ]
        }
      ],
      "source": [
        "dtc_step_2_1= tree.DecisionTreeClassifier()\n",
        "dcc_model_step_2_1=dtc_step_2_1.fit(X_train_attacks , y_train_attacks)\n",
        "y_pred = dcc_model_step_2_1.predict(X_test_attacks)\n",
        "accuracy = accuracy_score(y_test_attacks, y_pred)\n",
        "print(\"Accuracy:\", accuracy)"
      ]
    },
    {
      "cell_type": "code",
      "execution_count": null,
      "metadata": {
        "id": "eQ_1l09LD_R1",
        "colab": {
          "base_uri": "https://localhost:8080/",
          "height": 311
        },
        "outputId": "7edc9aba-a11c-4e15-eef6-691fad13b794"
      },
      "outputs": [
        {
          "output_type": "error",
          "ename": "ValueError",
          "evalue": "ignored",
          "traceback": [
            "\u001b[0;31m---------------------------------------------------------------------------\u001b[0m",
            "\u001b[0;31mValueError\u001b[0m                                Traceback (most recent call last)",
            "\u001b[0;32m<ipython-input-70-e8a3b10897ae>\u001b[0m in \u001b[0;36m<cell line: 1>\u001b[0;34m()\u001b[0m\n\u001b[0;32m----> 1\u001b[0;31m \u001b[0maccuracy_model\u001b[0m\u001b[0;34m=\u001b[0m\u001b[0mtest_cases\u001b[0m\u001b[0;34m(\u001b[0m\u001b[0mdcc_model_step_1\u001b[0m \u001b[0;34m,\u001b[0m \u001b[0mdcc_model_step_2_1\u001b[0m \u001b[0;34m,\u001b[0m \u001b[0mdfs_attacks\u001b[0m\u001b[0;34m)\u001b[0m\u001b[0;34m\u001b[0m\u001b[0;34m\u001b[0m\u001b[0m\n\u001b[0m",
            "\u001b[0;32m<ipython-input-67-9721d2d8dbf1>\u001b[0m in \u001b[0;36mtest_cases\u001b[0;34m(model_step_1, model_step_2, dfs)\u001b[0m\n\u001b[1;32m     16\u001b[0m         \u001b[0maccuracy\u001b[0m \u001b[0;34m=\u001b[0m \u001b[0maccuracy_score\u001b[0m\u001b[0;34m(\u001b[0m\u001b[0my_attacks\u001b[0m\u001b[0;34m,\u001b[0m \u001b[0my_pred_step_2\u001b[0m\u001b[0;34m)\u001b[0m\u001b[0;34m\u001b[0m\u001b[0;34m\u001b[0m\u001b[0m\n\u001b[1;32m     17\u001b[0m         \u001b[0;31m# precision tp / (tp + fp)\u001b[0m\u001b[0;34m\u001b[0m\u001b[0;34m\u001b[0m\u001b[0m\n\u001b[0;32m---> 18\u001b[0;31m         \u001b[0mprecision\u001b[0m\u001b[0;34m=\u001b[0m \u001b[0mprecision_score\u001b[0m\u001b[0;34m(\u001b[0m\u001b[0my\u001b[0m\u001b[0;34m,\u001b[0m \u001b[0my_pred\u001b[0m\u001b[0;34m)\u001b[0m\u001b[0;34m\u001b[0m\u001b[0;34m\u001b[0m\u001b[0m\n\u001b[0m\u001b[1;32m     19\u001b[0m         \u001b[0;31m# print(precision)\u001b[0m\u001b[0;34m\u001b[0m\u001b[0;34m\u001b[0m\u001b[0m\n\u001b[1;32m     20\u001b[0m         \u001b[0;31m# recall: tp / (tp + fn)\u001b[0m\u001b[0;34m\u001b[0m\u001b[0;34m\u001b[0m\u001b[0m\n",
            "\u001b[0;32m/usr/local/lib/python3.10/dist-packages/sklearn/metrics/_classification.py\u001b[0m in \u001b[0;36mprecision_score\u001b[0;34m(y_true, y_pred, labels, pos_label, average, sample_weight, zero_division)\u001b[0m\n\u001b[1;32m   1952\u001b[0m     \u001b[0marray\u001b[0m\u001b[0;34m(\u001b[0m\u001b[0;34m[\u001b[0m\u001b[0;36m0.5\u001b[0m\u001b[0;34m,\u001b[0m \u001b[0;36m1.\u001b[0m \u001b[0;34m,\u001b[0m \u001b[0;36m1.\u001b[0m \u001b[0;34m]\u001b[0m\u001b[0;34m)\u001b[0m\u001b[0;34m\u001b[0m\u001b[0;34m\u001b[0m\u001b[0m\n\u001b[1;32m   1953\u001b[0m     \"\"\"\n\u001b[0;32m-> 1954\u001b[0;31m     p, _, _, _ = precision_recall_fscore_support(\n\u001b[0m\u001b[1;32m   1955\u001b[0m         \u001b[0my_true\u001b[0m\u001b[0;34m,\u001b[0m\u001b[0;34m\u001b[0m\u001b[0;34m\u001b[0m\u001b[0m\n\u001b[1;32m   1956\u001b[0m         \u001b[0my_pred\u001b[0m\u001b[0;34m,\u001b[0m\u001b[0;34m\u001b[0m\u001b[0;34m\u001b[0m\u001b[0m\n",
            "\u001b[0;32m/usr/local/lib/python3.10/dist-packages/sklearn/metrics/_classification.py\u001b[0m in \u001b[0;36mprecision_recall_fscore_support\u001b[0;34m(y_true, y_pred, beta, labels, pos_label, average, warn_for, sample_weight, zero_division)\u001b[0m\n\u001b[1;32m   1571\u001b[0m     \u001b[0;32mif\u001b[0m \u001b[0mbeta\u001b[0m \u001b[0;34m<\u001b[0m \u001b[0;36m0\u001b[0m\u001b[0;34m:\u001b[0m\u001b[0;34m\u001b[0m\u001b[0;34m\u001b[0m\u001b[0m\n\u001b[1;32m   1572\u001b[0m         \u001b[0;32mraise\u001b[0m \u001b[0mValueError\u001b[0m\u001b[0;34m(\u001b[0m\u001b[0;34m\"beta should be >=0 in the F-beta score\"\u001b[0m\u001b[0;34m)\u001b[0m\u001b[0;34m\u001b[0m\u001b[0;34m\u001b[0m\u001b[0m\n\u001b[0;32m-> 1573\u001b[0;31m     \u001b[0mlabels\u001b[0m \u001b[0;34m=\u001b[0m \u001b[0m_check_set_wise_labels\u001b[0m\u001b[0;34m(\u001b[0m\u001b[0my_true\u001b[0m\u001b[0;34m,\u001b[0m \u001b[0my_pred\u001b[0m\u001b[0;34m,\u001b[0m \u001b[0maverage\u001b[0m\u001b[0;34m,\u001b[0m \u001b[0mlabels\u001b[0m\u001b[0;34m,\u001b[0m \u001b[0mpos_label\u001b[0m\u001b[0;34m)\u001b[0m\u001b[0;34m\u001b[0m\u001b[0;34m\u001b[0m\u001b[0m\n\u001b[0m\u001b[1;32m   1574\u001b[0m \u001b[0;34m\u001b[0m\u001b[0m\n\u001b[1;32m   1575\u001b[0m     \u001b[0;31m# Calculate tp_sum, pred_sum, true_sum ###\u001b[0m\u001b[0;34m\u001b[0m\u001b[0;34m\u001b[0m\u001b[0m\n",
            "\u001b[0;32m/usr/local/lib/python3.10/dist-packages/sklearn/metrics/_classification.py\u001b[0m in \u001b[0;36m_check_set_wise_labels\u001b[0;34m(y_true, y_pred, average, labels, pos_label)\u001b[0m\n\u001b[1;32m   1372\u001b[0m         \u001b[0;32mraise\u001b[0m \u001b[0mValueError\u001b[0m\u001b[0;34m(\u001b[0m\u001b[0;34m\"average has to be one of \"\u001b[0m \u001b[0;34m+\u001b[0m \u001b[0mstr\u001b[0m\u001b[0;34m(\u001b[0m\u001b[0maverage_options\u001b[0m\u001b[0;34m)\u001b[0m\u001b[0;34m)\u001b[0m\u001b[0;34m\u001b[0m\u001b[0;34m\u001b[0m\u001b[0m\n\u001b[1;32m   1373\u001b[0m \u001b[0;34m\u001b[0m\u001b[0m\n\u001b[0;32m-> 1374\u001b[0;31m     \u001b[0my_type\u001b[0m\u001b[0;34m,\u001b[0m \u001b[0my_true\u001b[0m\u001b[0;34m,\u001b[0m \u001b[0my_pred\u001b[0m \u001b[0;34m=\u001b[0m \u001b[0m_check_targets\u001b[0m\u001b[0;34m(\u001b[0m\u001b[0my_true\u001b[0m\u001b[0;34m,\u001b[0m \u001b[0my_pred\u001b[0m\u001b[0;34m)\u001b[0m\u001b[0;34m\u001b[0m\u001b[0;34m\u001b[0m\u001b[0m\n\u001b[0m\u001b[1;32m   1375\u001b[0m     \u001b[0;31m# Convert to Python primitive type to avoid NumPy type / Python str\u001b[0m\u001b[0;34m\u001b[0m\u001b[0;34m\u001b[0m\u001b[0m\n\u001b[1;32m   1376\u001b[0m     \u001b[0;31m# comparison. See https://github.com/numpy/numpy/issues/6784\u001b[0m\u001b[0;34m\u001b[0m\u001b[0;34m\u001b[0m\u001b[0m\n",
            "\u001b[0;32m/usr/local/lib/python3.10/dist-packages/sklearn/metrics/_classification.py\u001b[0m in \u001b[0;36m_check_targets\u001b[0;34m(y_true, y_pred)\u001b[0m\n\u001b[1;32m     84\u001b[0m     \u001b[0my_pred\u001b[0m \u001b[0;34m:\u001b[0m \u001b[0marray\u001b[0m \u001b[0;32mor\u001b[0m \u001b[0mindicator\u001b[0m \u001b[0mmatrix\u001b[0m\u001b[0;34m\u001b[0m\u001b[0;34m\u001b[0m\u001b[0m\n\u001b[1;32m     85\u001b[0m     \"\"\"\n\u001b[0;32m---> 86\u001b[0;31m     \u001b[0mcheck_consistent_length\u001b[0m\u001b[0;34m(\u001b[0m\u001b[0my_true\u001b[0m\u001b[0;34m,\u001b[0m \u001b[0my_pred\u001b[0m\u001b[0;34m)\u001b[0m\u001b[0;34m\u001b[0m\u001b[0;34m\u001b[0m\u001b[0m\n\u001b[0m\u001b[1;32m     87\u001b[0m     \u001b[0mtype_true\u001b[0m \u001b[0;34m=\u001b[0m \u001b[0mtype_of_target\u001b[0m\u001b[0;34m(\u001b[0m\u001b[0my_true\u001b[0m\u001b[0;34m,\u001b[0m \u001b[0minput_name\u001b[0m\u001b[0;34m=\u001b[0m\u001b[0;34m\"y_true\"\u001b[0m\u001b[0;34m)\u001b[0m\u001b[0;34m\u001b[0m\u001b[0;34m\u001b[0m\u001b[0m\n\u001b[1;32m     88\u001b[0m     \u001b[0mtype_pred\u001b[0m \u001b[0;34m=\u001b[0m \u001b[0mtype_of_target\u001b[0m\u001b[0;34m(\u001b[0m\u001b[0my_pred\u001b[0m\u001b[0;34m,\u001b[0m \u001b[0minput_name\u001b[0m\u001b[0;34m=\u001b[0m\u001b[0;34m\"y_pred\"\u001b[0m\u001b[0;34m)\u001b[0m\u001b[0;34m\u001b[0m\u001b[0;34m\u001b[0m\u001b[0m\n",
            "\u001b[0;32m/usr/local/lib/python3.10/dist-packages/sklearn/utils/validation.py\u001b[0m in \u001b[0;36mcheck_consistent_length\u001b[0;34m(*arrays)\u001b[0m\n\u001b[1;32m    395\u001b[0m     \u001b[0muniques\u001b[0m \u001b[0;34m=\u001b[0m \u001b[0mnp\u001b[0m\u001b[0;34m.\u001b[0m\u001b[0munique\u001b[0m\u001b[0;34m(\u001b[0m\u001b[0mlengths\u001b[0m\u001b[0;34m)\u001b[0m\u001b[0;34m\u001b[0m\u001b[0;34m\u001b[0m\u001b[0m\n\u001b[1;32m    396\u001b[0m     \u001b[0;32mif\u001b[0m \u001b[0mlen\u001b[0m\u001b[0;34m(\u001b[0m\u001b[0muniques\u001b[0m\u001b[0;34m)\u001b[0m \u001b[0;34m>\u001b[0m \u001b[0;36m1\u001b[0m\u001b[0;34m:\u001b[0m\u001b[0;34m\u001b[0m\u001b[0;34m\u001b[0m\u001b[0m\n\u001b[0;32m--> 397\u001b[0;31m         raise ValueError(\n\u001b[0m\u001b[1;32m    398\u001b[0m             \u001b[0;34m\"Found input variables with inconsistent numbers of samples: %r\"\u001b[0m\u001b[0;34m\u001b[0m\u001b[0;34m\u001b[0m\u001b[0m\n\u001b[1;32m    399\u001b[0m             \u001b[0;34m%\u001b[0m \u001b[0;34m[\u001b[0m\u001b[0mint\u001b[0m\u001b[0;34m(\u001b[0m\u001b[0ml\u001b[0m\u001b[0;34m)\u001b[0m \u001b[0;32mfor\u001b[0m \u001b[0ml\u001b[0m \u001b[0;32min\u001b[0m \u001b[0mlengths\u001b[0m\u001b[0;34m]\u001b[0m\u001b[0;34m\u001b[0m\u001b[0;34m\u001b[0m\u001b[0m\n",
            "\u001b[0;31mValueError\u001b[0m: Found input variables with inconsistent numbers of samples: [160000, 32000]"
          ]
        }
      ],
      "source": [
        "accuracy_model=test_cases(dcc_model_step_1 , dcc_model_step_2_1 , dfs_attacks)"
      ]
    },
    {
      "cell_type": "code",
      "execution_count": null,
      "metadata": {
        "id": "TGYO4WRzGhIk"
      },
      "outputs": [],
      "source": [
        "accuracy_model"
      ]
    },
    {
      "cell_type": "code",
      "execution_count": null,
      "metadata": {
        "id": "04JLEU_5D-xc"
      },
      "outputs": [],
      "source": [
        "# display in table\n",
        "final_test_step_1_5={ '25msg' : accuracy_model[0][0] , '30msg' : accuracy_model[0][1] , '35msg' : accuracy_model[0][2], '40msg' : accuracy_model[0][3] , '45msg' : accuracy_model[0][4] , '50msg' : accuracy_model[0][5]}\n",
        "Final_Time_step_1_5={ '25msg' : accuracy_model[1][0] , '30msg' : accuracy_model[1][1] , '35msg' : accuracy_model[1][2], '40msg' : accuracy_model[1][3] , '45msg' : accuracy_model[1][4] , '50msg' : accuracy_model[1][5]}\n",
        "test_1_dataframe_step_2=pd.DataFrame([final_test_step_1_5 , Final_Time_step_1_5] , index=['DT' , 'Time'])\n",
        "print(test_1_dataframe_step_2)"
      ]
    },
    {
      "cell_type": "code",
      "execution_count": null,
      "metadata": {
        "id": "HqRxJ5yiD-Ma"
      },
      "outputs": [],
      "source": []
    },
    {
      "cell_type": "markdown",
      "metadata": {
        "id": "kKr_jaYPF1t2"
      },
      "source": [
        "# KNN Model"
      ]
    },
    {
      "cell_type": "code",
      "execution_count": null,
      "metadata": {
        "id": "6cak6Mv3F4KJ"
      },
      "outputs": [],
      "source": [
        "# create a KNeighborsClassifier model with 5 neighbors\n",
        "knn_step_2 = KNeighborsClassifier(n_neighbors=5)\n",
        "\n",
        "# fit the model to the training data\n",
        "neigh_STEP_2=knn_step_2.fit(X_train_attacks, y_train_attacks)\n",
        "# make predictions on the test data and compute accuracy\n",
        "y_pred = neigh_STEP_2.predict(X_test_attacks)\n",
        "accuracy = accuracy_score(y_test, y_pred)\n",
        "print(\"Accuracy:\", accuracy)"
      ]
    },
    {
      "cell_type": "code",
      "source": [
        "df1=[]\n",
        "for i in range(df.shape[0]):\n",
        "    x= df.iloc[i].drop(3)\n",
        "    x[3] = 0  # Add a default value of 0 for the missing feature\n",
        "    x = np.array(x).reshape(1, -1)\n",
        "    pred =  neigh_STEP_1.predict(x)\n",
        "    if(pred):\n",
        "        df1.append(df.iloc[i])"
      ],
      "metadata": {
        "id": "nv44VUOUJ_Mu"
      },
      "execution_count": null,
      "outputs": []
    },
    {
      "cell_type": "code",
      "execution_count": null,
      "metadata": {
        "id": "lt9FrLqkGP89"
      },
      "outputs": [],
      "source": [
        "accuracy_model=test_cases(neigh_STEP_1 , neigh_STEP_2 , dfs_attacks)"
      ]
    },
    {
      "cell_type": "code",
      "execution_count": null,
      "metadata": {
        "id": "GW82CCV8Gnq6"
      },
      "outputs": [],
      "source": [
        "accuracy_model"
      ]
    },
    {
      "cell_type": "code",
      "execution_count": null,
      "metadata": {
        "id": "aBq46fyKShqb"
      },
      "outputs": [],
      "source": [
        "# display in table\n",
        "final_test_step_2_2={ '5msg' : accuracy_model[0][0] , '10msg' : accuracy_model[0][1] , '15msg' : accuracy_model[0][2], '20msg' : accuracy_model[0][3] , '25msg' : accuracy_model[0][4] , '30msg' : accuracy_model[0][5]}\n",
        "Final_Time_step_2_2={ '5msg' : accuracy_model[1][0] , '10msg' : accuracy_model[1][1] , '15msg' : accuracy_model[1][2], '20msg' : accuracy_model[1][3] , '25msg' : accuracy_model[1][4] , '30msg' : accuracy_model[1][5]}\n",
        "test_1_dataframe_step_2=pd.DataFrame([final_test_step_2_2 , Final_Time_step_2_2] , index=['KNN' , 'Time'])\n",
        "print(test_1_dataframe_step_2)\n",
        "sns.barplot(test_1_dataframe_step_2)\n",
        "plt.xlabel('Message')\n",
        "plt.ylabel('Time')\n",
        "plt.title('Compare Time Vs Accuracy for KNN')"
      ]
    },
    {
      "cell_type": "markdown",
      "metadata": {
        "id": "iN0Qauk8Hil4"
      },
      "source": [
        "# Random Forest"
      ]
    },
    {
      "cell_type": "code",
      "execution_count": null,
      "metadata": {
        "id": "GXjzcVEFH7eP"
      },
      "outputs": [],
      "source": [
        "rfc_step_2 = RandomForestClassifier()\n",
        "rfc_step_2.fit(X_train_attacks, y_train_attacks)\n",
        "y_pred = rfc_step_2.predict(X_test_attacks)\n",
        "accuracy = accuracy_score(y_test, y_pred)\n",
        "print(\"Accuracy:\", accuracy)"
      ]
    },
    {
      "cell_type": "code",
      "source": [
        "df1=[]\n",
        "for i in range(df.shape[0]):\n",
        "    x= df.iloc[i].drop(3)\n",
        "    x[3] = 0  # Add a default value of 0 for the missing feature\n",
        "    x = np.array(x).reshape(1, -1)\n",
        "    pred =  rfc_step_1.predict(x)\n",
        "    if(pred):\n",
        "        df1.append(df.iloc[i])"
      ],
      "metadata": {
        "id": "C5N11b70LfrI"
      },
      "execution_count": null,
      "outputs": []
    },
    {
      "cell_type": "code",
      "execution_count": null,
      "metadata": {
        "id": "mfQYzmtTIhNy"
      },
      "outputs": [],
      "source": [
        "accuracy_model=test_cases(rfc_step_1 , rfc_step_2 , dfs_attacks)"
      ]
    },
    {
      "cell_type": "code",
      "execution_count": null,
      "metadata": {
        "id": "BdRR0ZfHI-OH"
      },
      "outputs": [],
      "source": [
        "accuracy_model"
      ]
    },
    {
      "cell_type": "code",
      "execution_count": null,
      "metadata": {
        "id": "hSgFZEP_TA9y"
      },
      "outputs": [],
      "source": [
        "# display in table\n",
        "final_test_step_2_3={ '5msg' : accuracy_model[0][0] , '10msg' : accuracy_model[0][1] , '15msg' : accuracy_model[0][2], '20msg' : accuracy_model[0][3] , '25msg' : accuracy_model[0][4] , '30msg' : accuracy_model[0][5]}\n",
        "Final_Time_step_2_3={ '5msg' : accuracy_model[1][0] , '10msg' : accuracy_model[1][1] , '15msg' : accuracy_model[1][2], '20msg' : accuracy_model[1][3] , '25msg' : accuracy_model[1][4] , '30msg' : accuracy_model[1][5]}\n",
        "test_1_dataframe_step_2=pd.DataFrame([final_test_step_2_3 , Final_Time_step_2_3] , index=['RF' , 'Time'])\n",
        "print(test_1_dataframe_step_2)\n",
        "sns.barplot(test_1_dataframe_step_2)\n",
        "plt.xlabel('Message')\n",
        "plt.ylabel('Time')\n",
        "plt.title('Compare Time Vs Accuracy for Random Forest')"
      ]
    },
    {
      "cell_type": "markdown",
      "metadata": {
        "id": "S8H0L8jHJ_IP"
      },
      "source": [
        "# LSTM"
      ]
    },
    {
      "cell_type": "code",
      "execution_count": null,
      "metadata": {
        "id": "eEk8s9i6TwIv"
      },
      "outputs": [],
      "source": [
        "# convert dataframes to numpy arrays\n",
        "X_train = np.array(X_train_attacks)\n",
        "y_train = np.array(y_train_attacks)\n",
        "X_test = np.array(X_test_attacks)\n",
        "y_test = np.array(y_test_attacks)\n",
        "\n",
        "# reshape input data\n",
        "X_train = X_train.reshape((X_train.shape[0], X_train.shape[1], 1))\n",
        "X_test = X_test.reshape((X_test.shape[0], X_test.shape[1], 1))\n",
        "# encode the labels as integers\n",
        "le = LabelEncoder()\n",
        "y_train = le.fit_transform(y_train)\n",
        "y_test = le.transform(y_test)\n",
        "\n",
        "# one-hot encode the labels\n",
        "y_train = to_categorical(y_train, num_classes=15)\n",
        "y_test = to_categorical(y_test, num_classes=15)\n",
        "# define the model architecture\n",
        "LSTM_model_step_2 = Sequential()\n",
        "LSTM_model_step_2.add(LSTM(units=32, input_shape=(X_train.shape[1], X_train.shape[2])))\n",
        "LSTM_model_step_2.add(Dense(15, activation='softmax'))\n",
        "\n",
        "\n",
        "# Compile the model\n",
        "LSTM_model_step_2.compile(loss='categorical_crossentropy', optimizer='adam', metrics=['accuracy'])\n",
        "\n",
        "# Train the model\n",
        "LSTM_model_step_2.fit(X_train, y_train, epochs=100, batch_size=32, validation_data=(X_test, y_test))\n",
        "\n",
        "# Evaluate the model\n",
        "loss, accuracy = LSTM_model_step_2.evaluate(X_test, y_test, batch_size=32)\n",
        "print(\"Test loss:\", loss)\n",
        "print(\"Test accuracy:\", accuracy)"
      ]
    },
    {
      "cell_type": "code",
      "source": [
        "df1=[]\n",
        "for i in range(df.shape[0]):\n",
        "    x= df.iloc[i].drop(3)\n",
        "    x[3] = 0  # Add a default value of 0 for the missing feature\n",
        "    x = np.array(x).reshape(1, -1)\n",
        "    pred =  LSTM_model_step_1.predict(x)\n",
        "    if(pred):\n",
        "        df1.append(df.iloc[i])"
      ],
      "metadata": {
        "id": "CsOv2Mn2MS2G"
      },
      "execution_count": null,
      "outputs": []
    },
    {
      "cell_type": "code",
      "execution_count": null,
      "metadata": {
        "id": "slsnKWQZLZB1"
      },
      "outputs": [],
      "source": [
        "accuracy_model=test_cases(LSTM_model_step_1 , LSTM_model_step_2 , dfs_attacks)"
      ]
    },
    {
      "cell_type": "code",
      "source": [
        "# display in table\n",
        "final_test_step_2_4={ '5msg' : accuracy_model[0][0] , '10msg' : accuracy_model[0][1] , '15msg' : accuracy_model[0][2], '20msg' : accuracy_model[0][3] , '25msg' : accuracy_model[0][4] , '30msg' : accuracy_model[0][5]}\n",
        "Final_Time_step_2_4={ '5msg' : accuracy_model[1][0] , '10msg' : accuracy_model[1][1] , '15msg' : accuracy_model[1][2], '20msg' : accuracy_model[1][3] , '25msg' : accuracy_model[1][4] , '30msg' : accuracy_model[1][5]}\n",
        "test_4_dataframe_step_2=pd.DataFrame([final_test_step_2_4 , Final_Time_step_2_4] , index=['LSTM' , 'Time'])\n",
        "print(test_4_dataframe_step_2)\n",
        "sns.barplot(test_4_dataframe_step_2)\n",
        "plt.xlabel('Message')\n",
        "plt.ylabel('Time')\n",
        "plt.title('Compare Time Vs Accuracy for LSTM')"
      ],
      "metadata": {
        "id": "CweRDuncNnU6"
      },
      "execution_count": null,
      "outputs": []
    },
    {
      "cell_type": "markdown",
      "metadata": {
        "id": "RSkHga0maHe3"
      },
      "source": [
        "# GRU"
      ]
    },
    {
      "cell_type": "code",
      "execution_count": null,
      "metadata": {
        "id": "7APrhnfGaKiY"
      },
      "outputs": [],
      "source": [
        "# The GRU architecture\n",
        "regressorGRU_step_2 = Sequential()\n",
        "# First GRU layer with Dropout regularisation\n",
        "regressorGRU_step_2.add(GRU(units=50, return_sequences=True, input_shape=(X_train_type.shape[1],1), activation='tanh'))\n",
        "regressorGRU_step_2.add(Dropout(0.2))\n",
        "# Second GRU layer\n",
        "regressorGRU_step_2.add(GRU(units=50, return_sequences=True, input_shape=(X_train_type.shape[1],1), activation='tanh'))\n",
        "regressorGRU_step_2.add(Dropout(0.2))\n",
        "# Third GRU layer\n",
        "regressorGRU_step_2.add(GRU(units=50, return_sequences=True, input_shape=(X_train_type.shape[1],1), activation='tanh'))\n",
        "regressorGRU_step_2.add(Dropout(0.2))\n",
        "regressorGRU_step_2.add(GRU(units=50, activation='tanh'))\n",
        "regressorGRU_step_2.add(Dropout(0.2))\n",
        "regressorGRU_step_2.add(Dense(units=1))\n",
        "regressorGRU_step_2.compile(optimizer=SGD(lr=0.01, decay=1e-7, momentum=0.9, nesterov=False),loss='mean_squared_error' , metrics=['accuracy'])\n",
        "regressorGRU_step_2.fit(X_train_type,y_train_type,batch_size=150)\n",
        "y_pred=regressorGRU_step_2.predict(X_test_type)"
      ]
    },
    {
      "cell_type": "code",
      "source": [
        "df1=[]\n",
        "for i in range(df.shape[0]):\n",
        "    x= df.iloc[i].drop(3)\n",
        "    x[3] = 0  # Add a default value of 0 for the missing feature\n",
        "    x = np.array(x).reshape(1, -1)\n",
        "    pred =  regressorGRU_step_1.predict(x)\n",
        "    if(pred):\n",
        "        df1.append(df.iloc[i])"
      ],
      "metadata": {
        "id": "qnqCmE2lNGQd"
      },
      "execution_count": null,
      "outputs": []
    },
    {
      "cell_type": "code",
      "execution_count": null,
      "metadata": {
        "id": "zLZn_f6AajCS"
      },
      "outputs": [],
      "source": [
        "accuracy_model=test_cases(regressorGRU_step_1 , regressorGRU_step_2 , dfs_attacks)"
      ]
    },
    {
      "cell_type": "code",
      "source": [
        "# display in table\n",
        "final_test_step_2_5={ '5msg' : accuracy_model[0][0] , '10msg' : accuracy_model[0][1] , '15msg' : accuracy_model[0][2], '20msg' : accuracy_model[0][3] , '25msg' : accuracy_model[0][4] , '30msg' : accuracy_model[0][5]}\n",
        "Final_Time_step_2_5={ '5msg' : accuracy_model[1][0] , '10msg' : accuracy_model[1][1] , '15msg' : accuracy_model[1][2], '20msg' : accuracy_model[1][3] , '25msg' : accuracy_model[1][4] , '30msg' : accuracy_model[1][5]}\n",
        "test_4_dataframe_step_2=pd.DataFrame([final_test_step_2_5 , Final_Time_step_2_5] , index=['GRU' , 'Time'])\n",
        "print(test_5_dataframe_step_2)\n",
        "sns.barplot(test_5_dataframe_step_2)\n",
        "plt.xlabel('Message')\n",
        "plt.ylabel('Time')\n",
        "plt.title('Compare Time Vs Accuracy for GRU')"
      ],
      "metadata": {
        "id": "29UE9UEaNeC1"
      },
      "execution_count": null,
      "outputs": []
    },
    {
      "cell_type": "markdown",
      "metadata": {
        "id": "O49ti7hSa3_I"
      },
      "source": [
        "### Compare the  Best Accurcay Results Of Step-1 and Step -2"
      ]
    },
    {
      "cell_type": "markdown",
      "metadata": {
        "id": "1cndaFFVbCV0"
      },
      "source": [
        "### Decsion Tree Classifier"
      ]
    },
    {
      "cell_type": "code",
      "execution_count": null,
      "metadata": {
        "id": "dLaDLVgWoS0a"
      },
      "outputs": [],
      "source": [
        "# Accuracy data for Decision Tree\n",
        "dt_accuracy_step_1 = [0.8, 0.9, 0.933333, 0.9, 0.92, 0.9]\n",
        "\n",
        "# Accuracy data for Random Forest\n",
        "dt_accuracy_step_2 = [1.0, 1.0, 1.0, 1.0, 1.0, 1.0]\n",
        "\n",
        "# X-axis labels\n",
        "x_labels = ['5msg', '10msg', '15msg', '20msg', '25msg', '30msg']\n",
        "\n",
        "# Set the width of each bar\n",
        "bar_width = 0.35\n",
        "\n",
        "# Positions of the left bar-boundaries\n",
        "left_positions = np.arange(len(x_labels))\n",
        "\n",
        "# Create a figure\n",
        "fig, ax = plt.subplots()\n",
        "\n",
        "# Plot the bars for Decision Tree and Random Forest\n",
        "dt_bars = ax.bar(left_positions, dt_accuracy_step_1, width=bar_width, label='Step_1')\n",
        "rf_bars = ax.bar(left_positions + bar_width, dt_accuracy_step_2, width=bar_width, label='Step_2')\n",
        "\n",
        "# Add labels, title, and legend to the plot\n",
        "ax.set_xlabel('Message')\n",
        "ax.set_ylabel('Accuracy')\n",
        "ax.set_title('Accuracy Comparison')\n",
        "ax.set_xticks(left_positions + bar_width/2)\n",
        "ax.set_xticklabels(x_labels)\n",
        "ax.legend()\n",
        "\n",
        "# Show the plot\n",
        "plt.show()\n"
      ]
    },
    {
      "cell_type": "markdown",
      "metadata": {
        "id": "L-1X530obKvy"
      },
      "source": [
        "### Random Forest Classifier"
      ]
    },
    {
      "cell_type": "code",
      "execution_count": null,
      "metadata": {
        "id": "FFWrK7webUMJ"
      },
      "outputs": [],
      "source": [
        "# Accuracy data for Decision Tree\n",
        "rf_accuracy_step_2 = [1.000000,\t1.000000,\t1.000000,\t1.000000,\t1.00000\t,1.000000]\n",
        "\n",
        "# Accuracy data for Random Forest\n",
        "rf_accuracy_step_1 = [1.000000,\t1.000000,\t1.000000,\t1.000000,\t1.000000,\t0.966667]\n",
        "\n",
        "# X-axis labels\n",
        "x_labels = ['5msg', '10msg', '15msg', '20msg', '25msg', '30msg']\n",
        "\n",
        "# Set the width of each bar\n",
        "bar_width = 0.35\n",
        "\n",
        "# Positions of the left bar-boundaries\n",
        "left_positions = np.arange(len(x_labels))\n",
        "\n",
        "# Create a figure\n",
        "fig, ax = plt.subplots()\n",
        "\n",
        "# Plot the bars for Decision Tree and Random Forest\n",
        "dt_bars = ax.bar(left_positions, rf_accuracy_step_1, width=bar_width, label='Step_1')\n",
        "rf_bars = ax.bar(left_positions + bar_width, rf_accuracy_step_2, width=bar_width, label='Step_2')\n",
        "\n",
        "# Add labels, title, and legend to the plot\n",
        "ax.set_xlabel('Message')\n",
        "ax.set_ylabel('Accuracy')\n",
        "ax.set_title('Accuracy Comparison')\n",
        "ax.set_xticks(left_positions + bar_width/2)\n",
        "ax.set_xticklabels(x_labels)\n",
        "ax.legend()\n",
        "\n",
        "# Show the plot\n",
        "plt.show()"
      ]
    },
    {
      "cell_type": "markdown",
      "metadata": {
        "id": "kkMIkSySbUxd"
      },
      "source": [
        "### GRU"
      ]
    },
    {
      "cell_type": "markdown",
      "metadata": {
        "id": "7dD2K3vNblPB"
      },
      "source": [
        "### KNN"
      ]
    },
    {
      "cell_type": "code",
      "execution_count": null,
      "metadata": {
        "id": "tIJ4tGjPrTp9"
      },
      "outputs": [],
      "source": [
        "# Accuracy data for Decision Tree\n",
        "rf_accuracy_step_1 = [0.800000,0.900000\t,0.933333,\t0.900000,\t0.92000\t,0.866667]\n",
        "\n",
        "# Accuracy data for Random Forest\n",
        "rf_accuracy_step_2 = [1.000000,\t1.000000,\t1.000000,\t1.000000,\t1.000000,\t1.000000]\n",
        "\n",
        "# X-axis labels\n",
        "x_labels = ['5msg', '10msg', '15msg', '20msg', '25msg', '30msg']\n",
        "\n",
        "# Set the width of each bar\n",
        "bar_width = 0.35\n",
        "\n",
        "# Positions of the left bar-boundaries\n",
        "left_positions = np.arange(len(x_labels))\n",
        "\n",
        "# Create a figure\n",
        "fig, ax = plt.subplots()\n",
        "\n",
        "# Plot the bars for Decision Tree and Random Forest\n",
        "dt_bars = ax.bar(left_positions, rf_accuracy_step_1, width=bar_width, label='Step_1')\n",
        "rf_bars = ax.bar(left_positions + bar_width, rf_accuracy_step_2, width=bar_width, label='Step_2')\n",
        "\n",
        "# Add labels, title, and legend to the plot\n",
        "ax.set_xlabel('Message')\n",
        "ax.set_ylabel('Accuracy')\n",
        "ax.set_title('Accuracy Comparison')\n",
        "ax.set_xticks(left_positions + bar_width/2)\n",
        "ax.set_xticklabels(x_labels)\n",
        "ax.legend()\n",
        "\n",
        "# Show the plot\n",
        "plt.show()"
      ]
    },
    {
      "cell_type": "markdown",
      "metadata": {
        "id": "gD-gOgn-s28x"
      },
      "source": [
        "# Conclution: <br>\n",
        "Random Forest , Decision Tree Classifier and KNN model Performed better results on Step 1 and Step 2 Both"
      ]
    }
  ],
  "metadata": {
    "colab": {
      "provenance": []
    },
    "kernelspec": {
      "display_name": "Python 3",
      "name": "python3"
    },
    "language_info": {
      "name": "python"
    }
  },
  "nbformat": 4,
  "nbformat_minor": 0
}